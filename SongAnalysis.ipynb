{
 "cells": [
  {
   "cell_type": "markdown",
   "metadata": {
    "application/vnd.databricks.v1+cell": {
     "inputWidgets": {},
     "nuid": "3867f4ce-7b80-4976-9198-e1cfa31e90dc",
     "showTitle": false,
     "title": ""
    },
    "id": "cOnNoPPlbGOd"
   },
   "source": [
    "# CMU Machine Learning with Large Datasets\n",
    "## Homework 4 - Machine Learning at Scale"
   ]
  },
  {
   "cell_type": "markdown",
   "metadata": {
    "application/vnd.databricks.v1+cell": {
     "inputWidgets": {},
     "nuid": "4cedccf5-c707-442c-be0e-56922d3a080f",
     "showTitle": false,
     "title": ""
    },
    "id": "IdgzxKxwbGOh"
   },
   "source": [
    "Note that we've included code that does data loading and preparation for you. You could take a brief look to learn about how to specify a schema when loading data, or just run them all and start from \"Part B Begins\" after adding your S3 bucket name to cmd 8.\n",
    "\n",
    "Note that we will not be autograding this notebook because of the open-ended nature of it (although you will have to submit this notebook). To make grading easier and to learn about your thought process, throughout the notebook, we include questions you have to anwswer in your writeup. Whenver this happens, there is a ✰ symbol.\n",
    "\n",
    "### 0. Start a Spark Session and Install Libraries"
   ]
  },
  {
   "cell_type": "code",
   "execution_count": 1,
   "metadata": {
    "application/vnd.databricks.v1+cell": {
     "inputWidgets": {},
     "nuid": "484df638-6b78-47fe-b9d3-0d08c79398e5",
     "showTitle": false,
     "title": ""
    },
    "id": "EQrVmpuIbGOh"
   },
   "outputs": [
    {
     "name": "stdout",
     "output_type": "stream",
     "text": [
      "Starting Spark application\n"
     ]
    },
    {
     "data": {
      "text/html": [
       "<table>\n",
       "<tr><th>ID</th><th>YARN Application ID</th><th>Kind</th><th>State</th><th>Spark UI</th><th>Driver log</th><th>User</th><th>Current session?</th></tr><tr><td>10</td><td>application_1647910449193_0011</td><td>pyspark</td><td>idle</td><td><a target=\"_blank\" href=\"http://ip-172-31-24-22.ec2.internal:20888/proxy/application_1647910449193_0011/\">Link</a></td><td><a target=\"_blank\" href=\"http://ip-172-31-28-100.ec2.internal:8042/node/containerlogs/container_1647910449193_0011_01_000001/livy\">Link</a></td><td>None</td><td>✔</td></tr></table>"
      ],
      "text/plain": [
       "<IPython.core.display.HTML object>"
      ]
     },
     "metadata": {},
     "output_type": "display_data"
    },
    {
     "data": {
      "application/vnd.jupyter.widget-view+json": {
       "model_id": "",
       "version_major": 2,
       "version_minor": 0
      },
      "text/plain": [
       "FloatProgress(value=0.0, bar_style='info', description='Progress:', layout=Layout(height='25px', width='50%'),…"
      ]
     },
     "metadata": {},
     "output_type": "display_data"
    },
    {
     "name": "stdout",
     "output_type": "stream",
     "text": [
      "SparkSession available as 'spark'.\n"
     ]
    },
    {
     "data": {
      "application/vnd.jupyter.widget-view+json": {
       "model_id": "",
       "version_major": 2,
       "version_minor": 0
      },
      "text/plain": [
       "FloatProgress(value=0.0, bar_style='info', description='Progress:', layout=Layout(height='25px', width='50%'),…"
      ]
     },
     "metadata": {},
     "output_type": "display_data"
    },
    {
     "name": "stdout",
     "output_type": "stream",
     "text": [
      "num executors: 5"
     ]
    }
   ],
   "source": [
    "# You are highly recommended to select the \"PySpark\" kernel instead of python kernel,\n",
    "# Otherwise you need to modify this cell to get pyspark working.\n",
    "\n",
    "from pyspark.sql import *\n",
    "\n",
    "sc = spark.sparkContext\n",
    "print(f'num executors: {sc.getConf().get(\"spark.executor.instances\")}')"
   ]
  },
  {
   "cell_type": "markdown",
   "metadata": {
    "application/vnd.databricks.v1+cell": {
     "inputWidgets": {},
     "nuid": "c972f2bf-974e-4b8c-ad0d-05433de19e90",
     "showTitle": false,
     "title": ""
    },
    "id": "IFmlw9SPbGOi"
   },
   "source": [
    "Throughout this assignment, you will be generating plots. `Matplotlib` and other useful Python libraries do not come pre-installed on the cluster. Therefore, you will have to ssh into your master node (think about why it should be the master) using your keypair created earlier and install `matplotlib`. You might have to do this later again for other libraries you use, e.g. `Pandas`.\n",
    "\n",
    "Run the below cell to ensure you installation was successful. If an error occurs, you might want to double check your installation."
   ]
  },
  {
   "cell_type": "code",
   "execution_count": 2,
   "metadata": {
    "application/vnd.databricks.v1+cell": {
     "inputWidgets": {},
     "nuid": "488f21b7-f54a-45e0-8dc7-00e8c5577a44",
     "showTitle": false,
     "title": ""
    },
    "id": "foQTxuvwbGOj"
   },
   "outputs": [
    {
     "data": {
      "application/vnd.jupyter.widget-view+json": {
       "model_id": "",
       "version_major": 2,
       "version_minor": 0
      },
      "text/plain": [
       "FloatProgress(value=0.0, bar_style='info', description='Progress:', layout=Layout(height='25px', width='50%'),…"
      ]
     },
     "metadata": {},
     "output_type": "display_data"
    }
   ],
   "source": [
    "import matplotlib.pyplot as plt"
   ]
  },
  {
   "cell_type": "markdown",
   "metadata": {
    "application/vnd.databricks.v1+cell": {
     "inputWidgets": {},
     "nuid": "5dad8a9c-b4d3-4274-8521-27267223d7ef",
     "showTitle": false,
     "title": ""
    },
    "id": "AbkX3VxWbGOj"
   },
   "source": [
    "### 1. Data Loading and Preparation\n",
    "\n",
    "Earlier, we have extracted relevant features from and converted format of the full raw Million Song Dataset. We now want to load our converted dataset from the S3 Storage.\n",
    "\n",
    "Note that although you can load all chunks of the dataset using `*`, we recommend you only load in a subset while developing so that processing takes shorter time when you are just verifying your ideas. Be sure to add your own S3 bucket name to cmd 8."
   ]
  },
  {
   "cell_type": "code",
   "execution_count": 3,
   "metadata": {
    "application/vnd.databricks.v1+cell": {
     "inputWidgets": {},
     "nuid": "714d2f77-a394-477b-a40a-62f6b2536eae",
     "showTitle": false,
     "title": ""
    },
    "id": "ZG5MFx3VbGOk"
   },
   "outputs": [
    {
     "data": {
      "application/vnd.jupyter.widget-view+json": {
       "model_id": "",
       "version_major": 2,
       "version_minor": 0
      },
      "text/plain": [
       "FloatProgress(value=0.0, bar_style='info', description='Progress:', layout=Layout(height='25px', width='50%'),…"
      ]
     },
     "metadata": {},
     "output_type": "display_data"
    }
   ],
   "source": [
    "from pyspark.sql.types import DoubleType, StringType, StructField, StructType\n",
    "\n",
    "schema = StructType([StructField('song_hotttnesss', DoubleType(), True),\n",
    "                       StructField('artist_familiarity', DoubleType(), True),\n",
    "                       StructField('artist_hotttnesss', DoubleType(), True),\n",
    "                       StructField('artist_id', StringType(), True),\n",
    "                       StructField('artist_latitude', DoubleType(), True),\n",
    "                       StructField('artist_location', StringType(), True),\n",
    "                       StructField('artist_longitude', DoubleType(), True),\n",
    "                       StructField('artist_name', StringType(), True),\n",
    "                       StructField('title', StringType(), True),\n",
    "                       StructField('danceability', DoubleType(), True),\n",
    "                       StructField('duration', DoubleType(), True),\n",
    "                       StructField('end_of_fade_in', DoubleType(), True),\n",
    "                       StructField('energy', DoubleType(), True),\n",
    "                       StructField('key', DoubleType(), True),\n",
    "                       StructField('key_confidence', DoubleType(), True),\n",
    "                       StructField('loudness', DoubleType(), True),\n",
    "                       StructField('mode', DoubleType(), True),\n",
    "                       StructField('mode_confidence', DoubleType(), True),\n",
    "                       StructField('start_of_fade_out', DoubleType(), True),\n",
    "                       StructField('tempo', DoubleType(), True),\n",
    "                       StructField('time_signature', DoubleType(), True),\n",
    "                       StructField('time_signature_confidence', DoubleType(), True),\n",
    "                       StructField('artist_terms', StringType(), True),\n",
    "                       StructField('artist_terms_freq', StringType(), True),\n",
    "                       StructField('artist_terms_weight', StringType(), True),\n",
    "                       StructField('year', DoubleType(), True)]\n",
    "                   )"
   ]
  },
  {
   "cell_type": "code",
   "execution_count": 4,
   "metadata": {
    "application/vnd.databricks.v1+cell": {
     "inputWidgets": {},
     "nuid": "f365d6b4-6a95-43ae-b4eb-7b4e87d6cee4",
     "showTitle": false,
     "title": ""
    },
    "id": "VkMM1pqSbGOl"
   },
   "outputs": [
    {
     "data": {
      "application/vnd.jupyter.widget-view+json": {
       "model_id": "",
       "version_major": 2,
       "version_minor": 0
      },
      "text/plain": [
       "FloatProgress(value=0.0, bar_style='info', description='Progress:', layout=Layout(height='25px', width='50%'),…"
      ]
     },
     "metadata": {},
     "output_type": "display_data"
    },
    {
     "name": "stdout",
     "output_type": "stream",
     "text": [
      "loaded 581965 records"
     ]
    }
   ],
   "source": [
    "#--------------------------------------------------------------------\n",
    "#Set to False after writing your code and run end-to-end on full data\n",
    "#--------------------------------------------------------------------\n",
    "load_subset = False\n",
    "#----------------------------\n",
    "#Add your s3 bucket name below:\n",
    "#----------------------------\n",
    "s3_bucket_name = 'kbhambha-bucket'\n",
    "\n",
    "if load_subset:\n",
    "    df = spark.read.format(\"csv\")\\\n",
    "        .option(\"header\", \"false\")\\\n",
    "        .option(\"nanValue\", \"nan\")\\\n",
    "        .option(\"quote\", \"\\\"\")\\\n",
    "        .option(\"escape\", \"\\\"\")\\\n",
    "        .schema(schema)\\\n",
    "        .load(f\"s3://{s3_bucket_name}/processed/A_1.csv\")\n",
    "else:\n",
    "    df = spark.read.format(\"csv\")\\\n",
    "        .option(\"header\", \"false\")\\\n",
    "        .option(\"nanValue\", \"nan\")\\\n",
    "        .option(\"quote\", \"\\\"\")\\\n",
    "        .option(\"escape\", \"\\\"\")\\\n",
    "        .schema(schema)\\\n",
    "        .load(f\"s3://{s3_bucket_name}/processed/*.csv\")\n",
    "\n",
    "print('loaded {} records'.format(df.count()))"
   ]
  },
  {
   "cell_type": "markdown",
   "metadata": {
    "application/vnd.databricks.v1+cell": {
     "inputWidgets": {},
     "nuid": "5906caef-3ef1-446f-a63a-fa74be25e03e",
     "showTitle": false,
     "title": ""
    },
    "id": "1AYyfx6mbGOm"
   },
   "source": [
    "Inspect the `df` we just created by running the below cell:"
   ]
  },
  {
   "cell_type": "code",
   "execution_count": 5,
   "metadata": {
    "application/vnd.databricks.v1+cell": {
     "inputWidgets": {},
     "nuid": "46627166-6d11-4c7a-a7eb-03943226ff03",
     "showTitle": false,
     "title": ""
    },
    "id": "87ggwTuMbGOm"
   },
   "outputs": [
    {
     "data": {
      "application/vnd.jupyter.widget-view+json": {
       "model_id": "",
       "version_major": 2,
       "version_minor": 0
      },
      "text/plain": [
       "FloatProgress(value=0.0, bar_style='info', description='Progress:', layout=Layout(height='25px', width='50%'),…"
      ]
     },
     "metadata": {},
     "output_type": "display_data"
    },
    {
     "name": "stdout",
     "output_type": "stream",
     "text": [
      "root\n",
      " |-- song_hotttnesss: double (nullable = true)\n",
      " |-- artist_familiarity: double (nullable = true)\n",
      " |-- artist_hotttnesss: double (nullable = true)\n",
      " |-- artist_id: string (nullable = true)\n",
      " |-- artist_latitude: double (nullable = true)\n",
      " |-- artist_location: string (nullable = true)\n",
      " |-- artist_longitude: double (nullable = true)\n",
      " |-- artist_name: string (nullable = true)\n",
      " |-- title: string (nullable = true)\n",
      " |-- danceability: double (nullable = true)\n",
      " |-- duration: double (nullable = true)\n",
      " |-- end_of_fade_in: double (nullable = true)\n",
      " |-- energy: double (nullable = true)\n",
      " |-- key: double (nullable = true)\n",
      " |-- key_confidence: double (nullable = true)\n",
      " |-- loudness: double (nullable = true)\n",
      " |-- mode: double (nullable = true)\n",
      " |-- mode_confidence: double (nullable = true)\n",
      " |-- start_of_fade_out: double (nullable = true)\n",
      " |-- tempo: double (nullable = true)\n",
      " |-- time_signature: double (nullable = true)\n",
      " |-- time_signature_confidence: double (nullable = true)\n",
      " |-- artist_terms: string (nullable = true)\n",
      " |-- artist_terms_freq: string (nullable = true)\n",
      " |-- artist_terms_weight: string (nullable = true)\n",
      " |-- year: double (nullable = true)"
     ]
    }
   ],
   "source": [
    "df.printSchema()"
   ]
  },
  {
   "cell_type": "markdown",
   "metadata": {
    "application/vnd.databricks.v1+cell": {
     "inputWidgets": {},
     "nuid": "1081d1ca-bed1-4465-8223-b5a0794ae03c",
     "showTitle": false,
     "title": ""
    },
    "id": "WkaiZerNbGOm"
   },
   "source": [
    "<div align=\"center\">\n",
    "    <h1>------------------- Part B Begins ------------------- </h1>\n",
    "</div>"
   ]
  },
  {
   "cell_type": "markdown",
   "metadata": {
    "application/vnd.databricks.v1+cell": {
     "inputWidgets": {},
     "nuid": "3cebafaa-b3a9-4a1c-9118-42e9ec98a1da",
     "showTitle": false,
     "title": ""
    },
    "id": "jr6kvrk8bGOn"
   },
   "source": [
    "### 2. Exploratory Data Analysis\n",
    "\n",
    "Now we have our data mostly ready. It's a good time to take some deeper look to better understand what we are dealing with here.\n",
    "\n",
    "First, show summary statistics of the features using `.summary()`. Hint: because we have many features, the output might be too long for a single line. The simplest way to resolve this mess is to copy paste the output to some editor (e.g. vscode) and check the result. Another way is you could select only a few features to print at a time so that things could fit into one line."
   ]
  },
  {
   "cell_type": "code",
   "execution_count": 6,
   "metadata": {
    "application/vnd.databricks.v1+cell": {
     "inputWidgets": {},
     "nuid": "1933a481-773a-4eff-8c26-316d6c4b63f7",
     "showTitle": false,
     "title": ""
    },
    "id": "oQu9P_nfbGOn",
    "scrolled": true
   },
   "outputs": [
    {
     "data": {
      "application/vnd.jupyter.widget-view+json": {
       "model_id": "",
       "version_major": 2,
       "version_minor": 0
      },
      "text/plain": [
       "FloatProgress(value=0.0, bar_style='info', description='Progress:', layout=Layout(height='25px', width='50%'),…"
      ]
     },
     "metadata": {},
     "output_type": "display_data"
    },
    {
     "name": "stdout",
     "output_type": "stream",
     "text": [
      "+-------+-------------------+------------------+-------------------+------------------+---------------+------------------+----------------+-----------------+--------------------+------------+------------------+------------------+------+-----------------+-------------------+------------------+-------------------+------------------+------------------+------------------+------------------+-------------------------+--------------------+-----------------+--------------------+------------------+\n",
      "|summary|    song_hotttnesss|artist_familiarity|  artist_hotttnesss|         artist_id|artist_latitude|   artist_location|artist_longitude|      artist_name|               title|danceability|          duration|    end_of_fade_in|energy|              key|     key_confidence|          loudness|               mode|   mode_confidence| start_of_fade_out|             tempo|    time_signature|time_signature_confidence|        artist_terms|artist_terms_freq| artist_terms_weight|              year|\n",
      "+-------+-------------------+------------------+-------------------+------------------+---------------+------------------+----------------+-----------------+--------------------+------------+------------------+------------------+------+-----------------+-------------------+------------------+-------------------+------------------+------------------+------------------+------------------+-------------------------+--------------------+-----------------+--------------------+------------------+\n",
      "|  count|             581965|            581965|             581965|            581965|         581965|            312640|          581965|           581965|              581963|      581965|            581965|            581965|581965|           581965|             581965|            581965|             581965|            581965|            581965|            581965|            581965|                   581965|              581965|           581965|              581965|            581965|\n",
      "|   mean|0.35605103956148804|               NaN|0.39894112702409995|              null|            NaN|162.31768953068593|             NaN| 2407.88347107438|            Infinity|         0.0| 247.4803460953151|0.8335579218681576|   0.0|5.316178808003918|0.44471833014012874|-9.705873464899092| 0.6650262472829122|0.4755811397592635|238.34107476910134|124.69398340278192| 3.615208818399732|       0.5190131227822983|                null|             null|                null|1190.3304253692233|\n",
      "| stddev|0.23444090117416477|               NaN|0.11268873629244629|              null|            NaN|203.07901692071226|             NaN|8278.406555457928|                 NaN|         0.0|118.77363977981473|3.4344516788204476|   0.0|3.592772242009456| 0.2765275660212385|4.9692667653376095|0.47198169508088644|0.1923611066847666|116.63113061745923|34.972065487172614|1.1998028258069113|      0.37036982932953916|                null|             null|                null| 981.4745535030665|\n",
      "|    min|                0.0|               0.0|                0.0|AR002UA1187B9A637D|      -51.80058|                  |       -162.4365|              !!!|\u0018Ia \u0018Oe E Ka La \u0013...|         0.0|             0.522|               0.0|   0.0|              0.0|                0.0|           -58.178|                0.0|               0.0|             0.522|               0.0|               0.0|                      0.0|[\"rock 'n roll\", ...|       [0.0, 0.0]|[1.0, 0.219892937...|               0.0|\n",
      "|    25%|0.21508031850922793|0.5049385539655077|  0.352840611833799|              null|       43.64856|             100.0|          -61.55|            310.0|                29.0|         0.0|         183.30077|               0.0|   0.0|              2.0|              0.217|           -12.148|                0.0|              0.36|           175.514|            98.518|               3.0|                    0.138|                null|             null|                null|               0.0|\n",
      "|    50%| 0.3775316449767025| 0.582712208881566| 0.3994417218788512|              null|            NaN|             104.0|             NaN|            702.0|               407.0|         0.0|         230.03383|             0.194|   0.0|              5.0|              0.464|            -8.594|                1.0|             0.486|             220.7|           122.065|               4.0|                     0.56|                null|             null|                null|            1992.0|\n",
      "|    75%| 0.5320025293631183| 0.659130056109712| 0.4561823828015073|              null|            NaN|             108.0|             NaN|           1919.0|              1980.0|         0.0|         286.17098|             0.426|   0.0|              9.0|              0.654|            -6.139|                1.0|             0.606|           275.679|           145.644|               4.0|                     0.87|                null|             null|                null|            2004.0|\n",
      "|    max|                1.0|               NaN| 1.0825025567261237|ARZZZKG1271F573BC4|            NaN|  �tersund, Sweden|             NaN|              üNN|þetta Gerist á Be...|         0.0|        3032.58077|           991.359|   0.0|             11.0|                1.0|             4.318|                1.0|               1.0|          3030.622|           284.208|               7.0|                      1.0|                  []|               []|                  []|            2011.0|\n",
      "+-------+-------------------+------------------+-------------------+------------------+---------------+------------------+----------------+-----------------+--------------------+------------+------------------+------------------+------+-----------------+-------------------+------------------+-------------------+------------------+------------------+------------------+------------------+-------------------------+--------------------+-----------------+--------------------+------------------+"
     ]
    }
   ],
   "source": [
    "# YOUR CODE HERE\n",
    "df.summary().show()\n",
    "# YOUR CODE HERE"
   ]
  },
  {
   "cell_type": "code",
   "execution_count": 7,
   "metadata": {},
   "outputs": [
    {
     "data": {
      "application/vnd.jupyter.widget-view+json": {
       "model_id": "",
       "version_major": 2,
       "version_minor": 0
      },
      "text/plain": [
       "FloatProgress(value=0.0, bar_style='info', description='Progress:', layout=Layout(height='25px', width='50%'),…"
      ]
     },
     "metadata": {},
     "output_type": "display_data"
    },
    {
     "name": "stdout",
     "output_type": "stream",
     "text": [
      "+-------+-------------------+------------------+-------------------+------------------+---------------+------------------+----------------+------------------+--------------------+------------+------------------+------------------+------+------------------+-------------------+------------------+-------------------+-------------------+------------------+------------------+------------------+-------------------------+--------------------+-----------------+--------------------+------------------+\n",
      "|summary|    song_hotttnesss|artist_familiarity|  artist_hotttnesss|         artist_id|artist_latitude|   artist_location|artist_longitude|       artist_name|               title|danceability|          duration|    end_of_fade_in|energy|               key|     key_confidence|          loudness|               mode|    mode_confidence| start_of_fade_out|             tempo|    time_signature|time_signature_confidence|        artist_terms|artist_terms_freq| artist_terms_weight|              year|\n",
      "+-------+-------------------+------------------+-------------------+------------------+---------------+------------------+----------------+------------------+--------------------+------------+------------------+------------------+------+------------------+-------------------+------------------+-------------------+-------------------+------------------+------------------+------------------+-------------------------+--------------------+-----------------+--------------------+------------------+\n",
      "|  count|             581965|            581965|             581965|            581965|         581965|            312640|          581965|            581965|              581963|      581965|            581965|            581965|581965|            581965|             581965|            581965|             581965|             581965|            581965|            581965|            581965|                   581965|              581965|           581965|              581965|            581965|\n",
      "|   mean| 0.3560510395614882|               NaN| 0.3989411270240999|              null|            NaN|162.31768953068593|             NaN|2407.8834710743804|            Infinity|         0.0|247.48034609531504|0.8335579218681578|   0.0| 5.316178808003918|0.44471833014012885|-9.705873464899094| 0.6650262472829122|0.47558113975926375|238.34107476910125| 124.6939834027819| 3.615208818399732|       0.5190131227822983|                null|             null|                null|1190.3304253692233|\n",
      "| stddev|0.23444090117416483|               NaN|0.11268873629244627|              null|            NaN|203.07901692071235|             NaN| 8278.406555457928|                 NaN|         0.0| 118.7736397798147| 3.434451678820448|   0.0|3.5927722420094557| 0.2765275660212385|  4.96926676533761|0.47198169508088644|0.19236110668476664|116.63113061745922|34.972065487172614|1.1998028258069116|      0.37036982932953916|                null|             null|                null| 981.4745535030665|\n",
      "|    min|                0.0|               0.0|                0.0|AR002UA1187B9A637D|      -51.80058|                  |       -162.4365|               !!!|\u0018Ia \u0018Oe E Ka La \u0013...|         0.0|             0.522|               0.0|   0.0|               0.0|                0.0|           -58.178|                0.0|                0.0|             0.522|               0.0|               0.0|                      0.0|[\"rock 'n roll\", ...|       [0.0, 0.0]|[1.0, 0.219892937...|               0.0|\n",
      "|    max|                1.0|               NaN| 1.0825025567261237|ARZZZKG1271F573BC4|            NaN|  �tersund, Sweden|             NaN|               üNN|þetta Gerist á Be...|         0.0|        3032.58077|           991.359|   0.0|              11.0|                1.0|             4.318|                1.0|                1.0|          3030.622|           284.208|               7.0|                      1.0|                  []|               []|                  []|            2011.0|\n",
      "+-------+-------------------+------------------+-------------------+------------------+---------------+------------------+----------------+------------------+--------------------+------------+------------------+------------------+------+------------------+-------------------+------------------+-------------------+-------------------+------------------+------------------+------------------+-------------------------+--------------------+-----------------+--------------------+------------------+"
     ]
    }
   ],
   "source": [
    "df.describe().show()"
   ]
  },
  {
   "cell_type": "markdown",
   "metadata": {
    "application/vnd.databricks.v1+cell": {
     "inputWidgets": {},
     "nuid": "98330ff9-d36b-4384-b334-f8b6a6daea03",
     "showTitle": false,
     "title": ""
    },
    "id": "oJL6fIm9bGOn"
   },
   "source": [
    "Now looking at the statistics, `danceability` and `energy` appear strange. ✰2.3(a) Explain why these features seem problematic in your writeup.\n",
    "\n",
    "Now we would like to make some histogram plots to inspect the distribution of feature values. \n",
    "\n",
    "✰2.3(b) Plot histograms for `'song_hotttnesss', 'artist_familiarity', 'artist_hotttnesss', 'duration', 'tempo', 'year'`. \n",
    "\n",
    "Note that one of these features may appear weird. \n",
    "\n",
    "✰2.3(c) Explain what is weird about `year`'s distribution and what might cause this. Describe how you could filter `year` to make its histogram look more balanced. Hint: Choose a threshold and filter the `year` values.\n",
    "\n",
    "✰2.3(d) Do it and include the new plot of this feature into your writeup.\n",
    "\n",
    "Note: you may want to use the spark magic commands `%matplot plt` to show the plot."
   ]
  },
  {
   "cell_type": "code",
   "execution_count": 8,
   "metadata": {
    "application/vnd.databricks.v1+cell": {
     "inputWidgets": {},
     "nuid": "f50cf7a6-6c68-49a0-ac60-1fce85ede4a9",
     "showTitle": false,
     "title": ""
    },
    "id": "vLN7d7BhbGOo"
   },
   "outputs": [
    {
     "data": {
      "application/vnd.jupyter.widget-view+json": {
       "model_id": "",
       "version_major": 2,
       "version_minor": 0
      },
      "text/plain": [
       "FloatProgress(value=0.0, bar_style='info', description='Progress:', layout=Layout(height='25px', width='50%'),…"
      ]
     },
     "metadata": {},
     "output_type": "display_data"
    },
    {
     "name": "stdout",
     "output_type": "stream",
     "text": [
      "Text(0, 0.5, 'Frequency')"
     ]
    }
   ],
   "source": [
    "# YOUR CODE HERE\n",
    "import pandas as pd\n",
    "\n",
    "plt.title('Histograms')\n",
    "fig, ((ax1, ax2, ax3), (ax4, ax5, ax6)) = plt.subplots(2,3,figsize=(20,15))\n",
    "pandasDf = df.select(\"song_hotttnesss\", \"artist_familiarity\", \"artist_hotttnesss\", \"duration\", \"tempo\", \"year\").toPandas()\n",
    "ax1.hist(pandasDf[\"song_hotttnesss\"])\n",
    "ax1.set_xlabel('Song Hotness')\n",
    "ax1.set_ylabel('Frequency')\n",
    "\n",
    "ax2.hist(pandasDf[\"artist_familiarity\"])\n",
    "ax2.set_xlabel('Artist Familarity')\n",
    "ax2.set_ylabel('Frequency')\n",
    "\n",
    "ax3.hist(pandasDf[\"artist_hotttnesss\"])\n",
    "ax3.set_xlabel('Artist Hotness')\n",
    "ax3.set_ylabel('Frequency')\n",
    "\n",
    "ax4.hist(pandasDf[\"duration\"])\n",
    "ax4.set_xlabel('Duration')\n",
    "ax4.set_ylabel('Frequency')\n",
    "\n",
    "ax5.hist(pandasDf[\"tempo\"])\n",
    "ax5.set_xlabel('Tempo')\n",
    "ax5.set_ylabel('Frequency')\n",
    "\n",
    "ax6.hist(pandasDf[\"year\"])\n",
    "ax6.set_xlabel('Year')\n",
    "ax6.set_ylabel('Frequency')\n",
    "\n",
    "\n",
    "#df.select(df['song_hotttnesss']).plot(kind='hist')\n",
    "# YOUR CODE HERE"
   ]
  },
  {
   "cell_type": "code",
   "execution_count": 9,
   "metadata": {
    "scrolled": true
   },
   "outputs": [
    {
     "data": {
      "application/vnd.jupyter.widget-view+json": {
       "model_id": "",
       "version_major": 2,
       "version_minor": 0
      },
      "text/plain": [
       "FloatProgress(value=0.0, bar_style='info', description='Progress:', layout=Layout(height='25px', width='50%'),…"
      ]
     },
     "metadata": {},
     "output_type": "display_data"
    },
    {
     "data": {
      "image/png": "[encoded data removed]",
      "text/plain": [
       "<IPython.core.display.Image object>"
      ]
     },
     "metadata": {},
     "output_type": "display_data"
    }
   ],
   "source": [
    "%matplot plt"
   ]
  },
  {
   "cell_type": "markdown",
   "metadata": {
    "application/vnd.databricks.v1+cell": {
     "inputWidgets": {},
     "nuid": "8a8f8438-166b-44aa-ad20-2cdc3fafdcb3",
     "showTitle": false,
     "title": ""
    },
    "id": "g8OM2ZiEbGOo"
   },
   "source": [
    "Some scatter pair plots would also be interesting to see the correlation between features. ✰2.3(e) Include the plots of the following pairs of features and describe your findings (e.g. what patterns you observe) in your writeup.\n",
    "- `song_hotttnesss` against `artist_familiarity`\n",
    "- `artist_latitude` against `artist_longitude`\n",
    "- `song_hotttnesss` against `year`\n",
    "\n",
    "Plotting all data points might explode matplotlib. Think about what simple technique you could use to visualize large datasets while retaining data distribution. ✰2.3(f) In your writeup, briefly describe what you did."
   ]
  },
  {
   "cell_type": "code",
   "execution_count": 10,
   "metadata": {
    "application/vnd.databricks.v1+cell": {
     "inputWidgets": {},
     "nuid": "41f7f371-fbec-4988-b12c-8e3dd3567488",
     "showTitle": false,
     "title": ""
    },
    "id": "1S111QAjbGOo"
   },
   "outputs": [
    {
     "data": {
      "application/vnd.jupyter.widget-view+json": {
       "model_id": "",
       "version_major": 2,
       "version_minor": 0
      },
      "text/plain": [
       "FloatProgress(value=0.0, bar_style='info', description='Progress:', layout=Layout(height='25px', width='50%'),…"
      ]
     },
     "metadata": {},
     "output_type": "display_data"
    },
    {
     "name": "stdout",
     "output_type": "stream",
     "text": [
      "Text(0.5, 1.0, 'Scatter Plots')"
     ]
    }
   ],
   "source": [
    "# YOUR CODE HERE\n",
    "# YOUR CODE HERE\n",
    "plt.clf()\n",
    "pandasDf = df.sample(0.2).toPandas()\n",
    "fig, (ax1, ax2, ax3) = plt.subplots(1,3,figsize=(15,5))\n",
    "ax1.scatter(x = pandasDf['song_hotttnesss'], y = pandasDf['artist_familiarity'], c = 'DarkBlue')\n",
    "ax1.set_xlabel('Song Hotness')\n",
    "ax1.set_ylabel('Artist Familiarity')\n",
    "\n",
    "ax2.scatter(x = pandasDf['artist_latitude'], y = pandasDf['artist_longitude'], c = 'DarkBlue')\n",
    "ax2.set_xlabel('Artist Latitude')\n",
    "ax2.set_ylabel('Artist Longitude')\n",
    "\n",
    "ax3.scatter(x = pandasDf['song_hotttnesss'], y = pandasDf['year'], c = 'DarkBlue')\n",
    "ax3.set_xlabel('Song Hotness')\n",
    "ax3.set_ylabel('Year')\n",
    "\n",
    "plt.title('Scatter Plots')\n",
    "# YOUR CODE HERE\n",
    "\n",
    "# YOUR CODE HERE"
   ]
  },
  {
   "cell_type": "code",
   "execution_count": 11,
   "metadata": {},
   "outputs": [
    {
     "data": {
      "application/vnd.jupyter.widget-view+json": {
       "model_id": "",
       "version_major": 2,
       "version_minor": 0
      },
      "text/plain": [
       "FloatProgress(value=0.0, bar_style='info', description='Progress:', layout=Layout(height='25px', width='50%'),…"
      ]
     },
     "metadata": {},
     "output_type": "display_data"
    },
    {
     "data": {
      "image/png": "[encoded data removed]",
      "text/plain": [
       "<IPython.core.display.Image object>"
      ]
     },
     "metadata": {},
     "output_type": "display_data"
    }
   ],
   "source": [
    "%matplot plt"
   ]
  },
  {
   "cell_type": "code",
   "execution_count": 12,
   "metadata": {},
   "outputs": [
    {
     "data": {
      "application/vnd.jupyter.widget-view+json": {
       "model_id": "",
       "version_major": 2,
       "version_minor": 0
      },
      "text/plain": [
       "FloatProgress(value=0.0, bar_style='info', description='Progress:', layout=Layout(height='25px', width='50%'),…"
      ]
     },
     "metadata": {},
     "output_type": "display_data"
    },
    {
     "name": "stdout",
     "output_type": "stream",
     "text": [
      "Text(0.5, 1.0, 'Year with threshold')"
     ]
    }
   ],
   "source": [
    "plt.clf()\n",
    "pandasDf = df.sample(0.2).filter(df[\"year\"] > 1500).toPandas()\n",
    "plt.hist(pandasDf[\"year\"])\n",
    "plt.xlabel('Year')\n",
    "plt.ylabel('Frequency')\n",
    "plt.title('Year with threshold')"
   ]
  },
  {
   "cell_type": "code",
   "execution_count": 13,
   "metadata": {},
   "outputs": [
    {
     "data": {
      "application/vnd.jupyter.widget-view+json": {
       "model_id": "",
       "version_major": 2,
       "version_minor": 0
      },
      "text/plain": [
       "FloatProgress(value=0.0, bar_style='info', description='Progress:', layout=Layout(height='25px', width='50%'),…"
      ]
     },
     "metadata": {},
     "output_type": "display_data"
    },
    {
     "data": {
      "image/png": "[encoded data removed]",
      "text/plain": [
       "<IPython.core.display.Image object>"
      ]
     },
     "metadata": {},
     "output_type": "display_data"
    }
   ],
   "source": [
    "%matplot plt"
   ]
  },
  {
   "cell_type": "code",
   "execution_count": 14,
   "metadata": {},
   "outputs": [
    {
     "data": {
      "application/vnd.jupyter.widget-view+json": {
       "model_id": "",
       "version_major": 2,
       "version_minor": 0
      },
      "text/plain": [
       "FloatProgress(value=0.0, bar_style='info', description='Progress:', layout=Layout(height='25px', width='50%'),…"
      ]
     },
     "metadata": {},
     "output_type": "display_data"
    },
    {
     "name": "stdout",
     "output_type": "stream",
     "text": [
      "                           song_hotttnesss  ...      year\n",
      "song_hotttnesss                   1.000000  ...  0.386064\n",
      "artist_familiarity                0.477042  ...  0.262988\n",
      "artist_hotttnesss                 0.463279  ...  0.249487\n",
      "artist_latitude                   0.066085  ...  0.070376\n",
      "artist_longitude                  0.062907  ...  0.074995\n",
      "danceability                           NaN  ...       NaN\n",
      "duration                         -0.006676  ... -0.015884\n",
      "end_of_fade_in                    0.009493  ...  0.017879\n",
      "energy                                 NaN  ...       NaN\n",
      "key                              -0.006047  ... -0.008341\n",
      "key_confidence                   -0.002860  ... -0.006379\n",
      "loudness                          0.161265  ...  0.067673\n",
      "mode                             -0.023029  ... -0.009168\n",
      "mode_confidence                   0.009669  ...  0.004911\n",
      "start_of_fade_out                -0.007764  ... -0.017806\n",
      "tempo                             0.040089  ...  0.018332\n",
      "time_signature                    0.033498  ...  0.017178\n",
      "time_signature_confidence         0.016101  ...  0.008068\n",
      "year                              0.386064  ...  1.000000\n",
      "\n",
      "[19 rows x 19 columns]"
     ]
    }
   ],
   "source": [
    "pandasDf = df.sample(0.2).toPandas()\n",
    "corrM = pandasDf.corr()\n",
    "corrM"
   ]
  },
  {
   "cell_type": "markdown",
   "metadata": {
    "application/vnd.databricks.v1+cell": {
     "inputWidgets": {},
     "nuid": "b8a46234-ae5e-4ab7-ba35-4c9a08043c23",
     "showTitle": false,
     "title": ""
    },
    "id": "edOR1LYvbGOo"
   },
   "source": [
    "### 3. Data Cleaning\n",
    "\n",
    "From 2, you should have had a basic understanding of the dataset. In this cleaning step, we are dropping `energy` and `danceability` features. \n",
    "\n",
    "✰2.4(a) In your writeup, justify why we are doing this."
   ]
  },
  {
   "cell_type": "code",
   "execution_count": 15,
   "metadata": {
    "application/vnd.databricks.v1+cell": {
     "inputWidgets": {},
     "nuid": "b491848b-96be-4af8-a64b-4bdecbf907cc",
     "showTitle": false,
     "title": ""
    },
    "id": "K_qoFKDKbGOp"
   },
   "outputs": [
    {
     "data": {
      "application/vnd.jupyter.widget-view+json": {
       "model_id": "",
       "version_major": 2,
       "version_minor": 0
      },
      "text/plain": [
       "FloatProgress(value=0.0, bar_style='info', description='Progress:', layout=Layout(height='25px', width='50%'),…"
      ]
     },
     "metadata": {},
     "output_type": "display_data"
    }
   ],
   "source": [
    "# YOUR CODE HERE\n",
    "cleanDf = df.drop(*('energy','danceability'))\n",
    "\n",
    "# YOUR CODE HERE"
   ]
  },
  {
   "cell_type": "markdown",
   "metadata": {
    "application/vnd.databricks.v1+cell": {
     "inputWidgets": {},
     "nuid": "64cb2226-dcf2-4d19-a423-320270a93391",
     "showTitle": false,
     "title": ""
    },
    "id": "rS8RChEBbGOp"
   },
   "source": [
    "For simplicity, we are dropping `year` values that are less or equal to 1920. Print out the number of samples before and after dropping these rows. \n",
    "\n",
    "✰2.4(b) In your writeup, compare these two numbers and explain the advantages and potential problem of doing this step. What other techniques could you use to potentially do better?"
   ]
  },
  {
   "cell_type": "code",
   "execution_count": 16,
   "metadata": {
    "application/vnd.databricks.v1+cell": {
     "inputWidgets": {},
     "nuid": "cd1fb1a7-628b-4f18-b728-d874fa2eecc2",
     "showTitle": false,
     "title": ""
    },
    "id": "IntPLzb0bGOp"
   },
   "outputs": [
    {
     "data": {
      "application/vnd.jupyter.widget-view+json": {
       "model_id": "",
       "version_major": 2,
       "version_minor": 0
      },
      "text/plain": [
       "FloatProgress(value=0.0, bar_style='info', description='Progress:', layout=Layout(height='25px', width='50%'),…"
      ]
     },
     "metadata": {},
     "output_type": "display_data"
    },
    {
     "name": "stdout",
     "output_type": "stream",
     "text": [
      "Before dropping rows with year < 1920 : 581965\n",
      "After dropping rows with year < 1920 : 346444"
     ]
    }
   ],
   "source": [
    "# YOUR CODE HERE\n",
    "print(\"Before dropping rows with year < 1920 : \"+str(cleanDf.count()))\n",
    "cleanDf = cleanDf.filter(cleanDf.year > 1920)\n",
    "print(\"After dropping rows with year < 1920 : \"+str(cleanDf.count()))\n",
    "# YOUR CODE HERE"
   ]
  },
  {
   "cell_type": "markdown",
   "metadata": {
    "application/vnd.databricks.v1+cell": {
     "inputWidgets": {},
     "nuid": "0139eb2c-2151-44fb-bc95-da9e1939574f",
     "showTitle": false,
     "title": ""
    },
    "id": "cfPJkDifbGOp"
   },
   "source": [
    "Now, let's do an NaN check to see if there are other problematic features. Print the number of entries that contain NaN for each feature. \n",
    "\n",
    "Hint: use pyspark sql `count(when(isnull(...)))` to count total Null entries for a feature. Replace `isnull` with `isnan` to count nan entries."
   ]
  },
  {
   "cell_type": "code",
   "execution_count": 17,
   "metadata": {
    "application/vnd.databricks.v1+cell": {
     "inputWidgets": {},
     "nuid": "2ee11481-e983-42b7-a35c-67f2cd0bfd58",
     "showTitle": false,
     "title": ""
    },
    "id": "NUFuO6SrbGOq"
   },
   "outputs": [
    {
     "data": {
      "application/vnd.jupyter.widget-view+json": {
       "model_id": "",
       "version_major": 2,
       "version_minor": 0
      },
      "text/plain": [
       "FloatProgress(value=0.0, bar_style='info', description='Progress:', layout=Layout(height='25px', width='50%'),…"
      ]
     },
     "metadata": {},
     "output_type": "display_data"
    },
    {
     "name": "stdout",
     "output_type": "stream",
     "text": [
      "+---------------+------------------+-----------------+---------+---------------+---------------+----------------+-----------+-----+--------+--------------+---+--------------+--------+----+---------------+-----------------+-----+--------------+-------------------------+------------+-----------------+-------------------+----+\n",
      "|song_hotttnesss|artist_familiarity|artist_hotttnesss|artist_id|artist_latitude|artist_location|artist_longitude|artist_name|title|duration|end_of_fade_in|key|key_confidence|loudness|mode|mode_confidence|start_of_fade_out|tempo|time_signature|time_signature_confidence|artist_terms|artist_terms_freq|artist_terms_weight|year|\n",
      "+---------------+------------------+-----------------+---------+---------------+---------------+----------------+-----------+-----+--------+--------------+---+--------------+--------+----+---------------+-----------------+-----+--------------+-------------------------+------------+-----------------+-------------------+----+\n",
      "|              0|                 1|                0|        0|         219399|              0|          219399|          0|    0|       0|             0|  0|             0|       0|   0|              0|                0|    0|             0|                        0|           0|                0|                  0|   0|\n",
      "+---------------+------------------+-----------------+---------+---------------+---------------+----------------+-----------+-----+--------+--------------+---+--------------+--------+----+---------------+-----------------+-----+--------------+-------------------------+------------+-----------------+-------------------+----+\n",
      "\n",
      "+---------------+------------------+-----------------+---------+---------------+---------------+----------------+-----------+-----+--------+--------------+---+--------------+--------+----+---------------+-----------------+-----+--------------+-------------------------+------------+-----------------+-------------------+----+\n",
      "|song_hotttnesss|artist_familiarity|artist_hotttnesss|artist_id|artist_latitude|artist_location|artist_longitude|artist_name|title|duration|end_of_fade_in|key|key_confidence|loudness|mode|mode_confidence|start_of_fade_out|tempo|time_signature|time_signature_confidence|artist_terms|artist_terms_freq|artist_terms_weight|year|\n",
      "+---------------+------------------+-----------------+---------+---------------+---------------+----------------+-----------+-----+--------+--------------+---+--------------+--------+----+---------------+-----------------+-----+--------------+-------------------------+------------+-----------------+-------------------+----+\n",
      "|              0|                 0|                0|        0|              0|         151524|               0|          0|    0|       0|             0|  0|             0|       0|   0|              0|                0|    0|             0|                        0|           0|                0|                  0|   0|\n",
      "+---------------+------------------+-----------------+---------+---------------+---------------+----------------+-----------+-----+--------+--------------+---+--------------+--------+----+---------------+-----------------+-----+--------------+-------------------------+------------+-----------------+-------------------+----+"
     ]
    }
   ],
   "source": [
    "# count na\n",
    "from pyspark.sql.functions import isnan, when, count, isnull\n",
    "\n",
    "# YOUR CODE HERE\n",
    "cleanDf.select([count(when(isnan(c), c)).alias(c) for c in cleanDf.columns]).show()\n",
    "# YOUR CODE HERE\n",
    "cleanDf.select([count(when(isnull(c), c)).alias(c) for c in cleanDf.columns]).show()"
   ]
  },
  {
   "cell_type": "markdown",
   "metadata": {
    "application/vnd.databricks.v1+cell": {
     "inputWidgets": {},
     "nuid": "b64e1319-1b0f-4d05-90a2-332968de3545",
     "showTitle": false,
     "title": ""
    },
    "id": "KMIBhrFjbGOq"
   },
   "source": [
    "We should see two features that contain (a lot of) `nan` in them. ✰2.4(c) Which two are they? \n",
    "\n",
    "For simplicity, we are dropping all records with `nan` in these two features. Note that this drops a significant proportion of our dataset. Since we have a lot of data to fit some rather simple models, this might be ok. \n",
    "\n",
    "However, do note that this is not usually desirable in the real-word because we always want to retain as much data as possible, especially when training larger, more complex models. ✰2.4(d) In your writeup, explain what possible techniques could you employ to deal with this situation. Discuss the pros and cons of your proposed solution."
   ]
  },
  {
   "cell_type": "code",
   "execution_count": 18,
   "metadata": {
    "application/vnd.databricks.v1+cell": {
     "inputWidgets": {},
     "nuid": "ecc73bc3-a9de-4af6-be6d-3d629b4edc25",
     "showTitle": false,
     "title": ""
    },
    "id": "FfTUaV9MbGOq"
   },
   "outputs": [
    {
     "data": {
      "application/vnd.jupyter.widget-view+json": {
       "model_id": "",
       "version_major": 2,
       "version_minor": 0
      },
      "text/plain": [
       "FloatProgress(value=0.0, bar_style='info', description='Progress:', layout=Layout(height='25px', width='50%'),…"
      ]
     },
     "metadata": {},
     "output_type": "display_data"
    }
   ],
   "source": [
    "# YOUR CODE HERE\n",
    "cleanDf = cleanDf.filter(~isnan(df.artist_latitude) & ~isnan(df.artist_longitude))\n",
    "# YOUR CODE HERE"
   ]
  },
  {
   "cell_type": "markdown",
   "metadata": {
    "application/vnd.databricks.v1+cell": {
     "inputWidgets": {},
     "nuid": "5337b93b-2e7b-42a3-95af-acb04aa860f0",
     "showTitle": false,
     "title": ""
    },
    "id": "C5YQ936PbGOq"
   },
   "source": [
    "✰2.4(e) Finally in your writeup, report the percentage of records that survived our very aggressive data cleaning."
   ]
  },
  {
   "cell_type": "code",
   "execution_count": 19,
   "metadata": {
    "application/vnd.databricks.v1+cell": {
     "inputWidgets": {},
     "nuid": "5d738d09-aba9-4e13-a9b5-365ed92131a4",
     "showTitle": false,
     "title": ""
    },
    "id": "Hno4Hve4bGOq"
   },
   "outputs": [
    {
     "data": {
      "application/vnd.jupyter.widget-view+json": {
       "model_id": "",
       "version_major": 2,
       "version_minor": 0
      },
      "text/plain": [
       "FloatProgress(value=0.0, bar_style='info', description='Progress:', layout=Layout(height='25px', width='50%'),…"
      ]
     },
     "metadata": {},
     "output_type": "display_data"
    },
    {
     "name": "stdout",
     "output_type": "stream",
     "text": [
      "Before Cleaning:581965\n",
      "After Cleaning:127045\n",
      "% of records:21.830350622460113"
     ]
    }
   ],
   "source": [
    "# counting code\n",
    "print(\"Before Cleaning:\"+str(df.count()))\n",
    "print(\"After Cleaning:\"+str(cleanDf.count()))\n",
    "print(\"% of records:\"+str((cleanDf.count()*100)/df.count()))"
   ]
  },
  {
   "cell_type": "markdown",
   "metadata": {
    "application/vnd.databricks.v1+cell": {
     "inputWidgets": {},
     "nuid": "eb77bbcf-691d-46dd-b405-5dd4ba0b1eb8",
     "showTitle": false,
     "title": ""
    },
    "id": "I3p1DrvmbGOq"
   },
   "source": [
    "### 4. Baseline\n",
    "\n",
    "Now we have the data (almost) ready to do some preliminary modeling! \n",
    "\n",
    "We will be treating this problem as a classification problem, i.e. given some features, predict whether a song will be popular. We define a song to be popular if its `song_hotttnesss` value is above average. \n",
    "\n",
    "✰2.5(a) Explain in your writeup why treating this as a classification problem (instead of a regression problem) might be a sensible choice. \n",
    "\n",
    "Then, assign labels to the dataset with the above definition of \"popularity\"."
   ]
  },
  {
   "cell_type": "code",
   "execution_count": 20,
   "metadata": {
    "application/vnd.databricks.v1+cell": {
     "inputWidgets": {},
     "nuid": "2960145a-91b9-4f1f-aa69-fd49829bda64",
     "showTitle": false,
     "title": ""
    },
    "id": "yCGy3UtUbGOr"
   },
   "outputs": [
    {
     "data": {
      "application/vnd.jupyter.widget-view+json": {
       "model_id": "",
       "version_major": 2,
       "version_minor": 0
      },
      "text/plain": [
       "FloatProgress(value=0.0, bar_style='info', description='Progress:', layout=Layout(height='25px', width='50%'),…"
      ]
     },
     "metadata": {},
     "output_type": "display_data"
    }
   ],
   "source": [
    "from pyspark.sql.functions import col, expr, when\n",
    "\n",
    "# assign labels\n",
    "# YOUR CODE HERE\n",
    "avg_song_hotttnesss = cleanDf.agg({\"song_hotttnesss\": \"avg\"}).collect()[0][0]\n",
    "\n",
    "\n",
    "cleanDf = cleanDf.withColumn(\"label\", \n",
    "                   when(cleanDf[\"song_hotttnesss\"] > avg_song_hotttnesss, 1).otherwise(0))\n",
    "\n",
    "cleanDf = cleanDf.drop(\"Popularity\")\n",
    "# YOUR CODE HERE"
   ]
  },
  {
   "cell_type": "markdown",
   "metadata": {
    "application/vnd.databricks.v1+cell": {
     "inputWidgets": {},
     "nuid": "5cc243f5-904c-46a9-a45f-95cf47086ae4",
     "showTitle": false,
     "title": ""
    },
    "id": "7P7RUcVGbGOr"
   },
   "source": [
    "Now let's take a look at how balanced the two classes are. ✰2.5(b) Report what percentage of songs are assigned the \"popular\" label."
   ]
  },
  {
   "cell_type": "code",
   "execution_count": 21,
   "metadata": {
    "application/vnd.databricks.v1+cell": {
     "inputWidgets": {},
     "nuid": "fffe7c1f-ab19-414a-b073-a07e5de6d7de",
     "showTitle": false,
     "title": ""
    },
    "id": "lijIsObbbGOr"
   },
   "outputs": [
    {
     "data": {
      "application/vnd.jupyter.widget-view+json": {
       "model_id": "",
       "version_major": 2,
       "version_minor": 0
      },
      "text/plain": [
       "FloatProgress(value=0.0, bar_style='info', description='Progress:', layout=Layout(height='25px', width='50%'),…"
      ]
     },
     "metadata": {},
     "output_type": "display_data"
    },
    {
     "name": "stdout",
     "output_type": "stream",
     "text": [
      "Percentage of popular songs : 55.993545594080835"
     ]
    }
   ],
   "source": [
    "# YOUR CODE HERE\n",
    "popular_count = cleanDf.where(cleanDf.label == 1).count()\n",
    "popular_count_percentage = (popular_count*100)/cleanDf.count()\n",
    "print(\"Percentage of popular songs : \" + str(popular_count_percentage))\n",
    "# YOUR CODE HERE"
   ]
  },
  {
   "cell_type": "markdown",
   "metadata": {
    "application/vnd.databricks.v1+cell": {
     "inputWidgets": {},
     "nuid": "a49f1fe3-9ecc-4f0a-8721-1da6bddf901d",
     "showTitle": false,
     "title": ""
    },
    "id": "CAFx-f3NbGOr"
   },
   "source": [
    "As how we've been dealing with the `year` feature in earlier assignments, we will shift the feature so that it starts from 0.\n",
    "\n",
    "✰2.5(c) Explain why we want to do this."
   ]
  },
  {
   "cell_type": "code",
   "execution_count": 22,
   "metadata": {
    "application/vnd.databricks.v1+cell": {
     "inputWidgets": {},
     "nuid": "464fd15a-eb38-4767-9961-7367f398a2cf",
     "showTitle": false,
     "title": ""
    },
    "id": "vWfY2SR_bGOr"
   },
   "outputs": [
    {
     "data": {
      "application/vnd.jupyter.widget-view+json": {
       "model_id": "",
       "version_major": 2,
       "version_minor": 0
      },
      "text/plain": [
       "FloatProgress(value=0.0, bar_style='info', description='Progress:', layout=Layout(height='25px', width='50%'),…"
      ]
     },
     "metadata": {},
     "output_type": "display_data"
    }
   ],
   "source": [
    "# shift years\n",
    "# YOUR CODE HERE\n",
    "min_year = cleanDf.agg({\"year\": \"min\"}).collect()[0][0]\n",
    "cleanDf = cleanDf.withColumn(\"year\",cleanDf.year-min_year)\n",
    "# YOUR CODE HERE"
   ]
  },
  {
   "cell_type": "markdown",
   "metadata": {
    "application/vnd.databricks.v1+cell": {
     "inputWidgets": {},
     "nuid": "cba48875-ef80-4ef8-9b9d-f65ff3463ebc",
     "showTitle": false,
     "title": ""
    },
    "id": "iQypQ7mobGOr"
   },
   "source": [
    "Finally, let's concatenate all features (using VectorAssembler) into a feature vector and scale it. \n",
    "\n",
    "✰2.5(d) Explain what scaling means and why we want to perform scaling before the learning step.\n",
    "\n",
    "Note: we will only be using the numeric features for now. Excluding `song_hotttnesss` and the two features we dropped in the data cleaning step, there should be 19-3=16 of them."
   ]
  },
  {
   "cell_type": "code",
   "execution_count": 23,
   "metadata": {},
   "outputs": [
    {
     "data": {
      "application/vnd.jupyter.widget-view+json": {
       "model_id": "",
       "version_major": 2,
       "version_minor": 0
      },
      "text/plain": [
       "FloatProgress(value=0.0, bar_style='info', description='Progress:', layout=Layout(height='25px', width='50%'),…"
      ]
     },
     "metadata": {},
     "output_type": "display_data"
    },
    {
     "name": "stdout",
     "output_type": "stream",
     "text": [
      "root\n",
      " |-- song_hotttnesss: double (nullable = true)\n",
      " |-- artist_familiarity: double (nullable = true)\n",
      " |-- artist_hotttnesss: double (nullable = true)\n",
      " |-- artist_id: string (nullable = true)\n",
      " |-- artist_latitude: double (nullable = true)\n",
      " |-- artist_location: string (nullable = true)\n",
      " |-- artist_longitude: double (nullable = true)\n",
      " |-- artist_name: string (nullable = true)\n",
      " |-- title: string (nullable = true)\n",
      " |-- duration: double (nullable = true)\n",
      " |-- end_of_fade_in: double (nullable = true)\n",
      " |-- key: double (nullable = true)\n",
      " |-- key_confidence: double (nullable = true)\n",
      " |-- loudness: double (nullable = true)\n",
      " |-- mode: double (nullable = true)\n",
      " |-- mode_confidence: double (nullable = true)\n",
      " |-- start_of_fade_out: double (nullable = true)\n",
      " |-- tempo: double (nullable = true)\n",
      " |-- time_signature: double (nullable = true)\n",
      " |-- time_signature_confidence: double (nullable = true)\n",
      " |-- artist_terms: string (nullable = true)\n",
      " |-- artist_terms_freq: string (nullable = true)\n",
      " |-- artist_terms_weight: string (nullable = true)\n",
      " |-- year: double (nullable = true)\n",
      " |-- label: integer (nullable = false)"
     ]
    }
   ],
   "source": [
    "cleanDf.printSchema()"
   ]
  },
  {
   "cell_type": "code",
   "execution_count": 24,
   "metadata": {
    "application/vnd.databricks.v1+cell": {
     "inputWidgets": {},
     "nuid": "5edbc59d-3f87-4436-9f5f-14928035d6ae",
     "showTitle": false,
     "title": ""
    },
    "id": "VOs9nbj3bGOr"
   },
   "outputs": [
    {
     "data": {
      "application/vnd.jupyter.widget-view+json": {
       "model_id": "",
       "version_major": 2,
       "version_minor": 0
      },
      "text/plain": [
       "FloatProgress(value=0.0, bar_style='info', description='Progress:', layout=Layout(height='25px', width='50%'),…"
      ]
     },
     "metadata": {},
     "output_type": "display_data"
    }
   ],
   "source": [
    "# assembling vector\n",
    "\n",
    "from pyspark.ml.feature import VectorAssembler\n",
    "inputCols = ['artist_familiarity', 'artist_hotttnesss', 'artist_latitude', 'artist_longitude', 'duration', 'end_of_fade_in', 'key', 'key_confidence', 'loudness', 'mode', 'mode_confidence', 'start_of_fade_out', 'tempo', 'time_signature', 'time_signature_confidence', 'year']\n",
    "# YOUR CODE HERE\n",
    "vecAssembler = VectorAssembler(inputCols = inputCols, outputCol=\"vec_features\")\n",
    "vec_df = vecAssembler.transform(cleanDf)\n",
    "# YOUR CODE HERE"
   ]
  },
  {
   "cell_type": "code",
   "execution_count": 25,
   "metadata": {
    "application/vnd.databricks.v1+cell": {
     "inputWidgets": {},
     "nuid": "4f2dc7fa-29fb-46fd-b4db-c6ea6c017abb",
     "showTitle": false,
     "title": ""
    },
    "id": "J04hWIfybGOs"
   },
   "outputs": [
    {
     "data": {
      "application/vnd.jupyter.widget-view+json": {
       "model_id": "",
       "version_major": 2,
       "version_minor": 0
      },
      "text/plain": [
       "FloatProgress(value=0.0, bar_style='info', description='Progress:', layout=Layout(height='25px', width='50%'),…"
      ]
     },
     "metadata": {},
     "output_type": "display_data"
    }
   ],
   "source": [
    "# scaling\n",
    "\n",
    "from pyspark.ml.feature import StandardScaler\n",
    "\n",
    "# YOUR CODE HERE\n",
    "ss = StandardScaler()\n",
    "ss.setInputCol(\"vec_features\")\n",
    "ss.setOutputCol(\"features\")\n",
    "model = ss.fit(vec_df)\n",
    "df_features = model.transform(vec_df)\n",
    "# YOUR CODE HERE"
   ]
  },
  {
   "cell_type": "markdown",
   "metadata": {
    "application/vnd.databricks.v1+cell": {
     "inputWidgets": {},
     "nuid": "18b3d8b7-ca44-4790-a2a9-30b30b80c612",
     "showTitle": false,
     "title": ""
    },
    "id": "_04B0N44bGOs"
   },
   "source": [
    "Now let's verify the resulting feature vector is of expected length 16."
   ]
  },
  {
   "cell_type": "code",
   "execution_count": 26,
   "metadata": {
    "application/vnd.databricks.v1+cell": {
     "inputWidgets": {},
     "nuid": "028b1e4e-dfe8-4191-a49b-f29f23ab8aac",
     "showTitle": false,
     "title": ""
    },
    "id": "XSzZdDxebGOs"
   },
   "outputs": [
    {
     "data": {
      "application/vnd.jupyter.widget-view+json": {
       "model_id": "",
       "version_major": 2,
       "version_minor": 0
      },
      "text/plain": [
       "FloatProgress(value=0.0, bar_style='info', description='Progress:', layout=Layout(height='25px', width='50%'),…"
      ]
     },
     "metadata": {},
     "output_type": "display_data"
    },
    {
     "name": "stdout",
     "output_type": "stream",
     "text": [
      "vector len: 16"
     ]
    }
   ],
   "source": [
    "# change your variable/column names accordingly\n",
    "l = df_features.select('features').take(1)[0].features\n",
    "print('vector len:',len(l))\n",
    "assert len(l) == 16"
   ]
  },
  {
   "cell_type": "markdown",
   "metadata": {
    "application/vnd.databricks.v1+cell": {
     "inputWidgets": {},
     "nuid": "c54cf7b6-0109-493b-bf45-58ae23407c64",
     "showTitle": false,
     "title": ""
    },
    "id": "cA6ciqngbGOs"
   },
   "source": [
    "Now, we are really ready to fit some models. \n",
    "\n",
    "First, do a train-test split on the dataset, with test ratio 0.2 and seed 10605."
   ]
  },
  {
   "cell_type": "code",
   "execution_count": 27,
   "metadata": {
    "application/vnd.databricks.v1+cell": {
     "inputWidgets": {},
     "nuid": "adaa8b39-f18e-47b6-bc98-8996bf4397bc",
     "showTitle": false,
     "title": ""
    },
    "id": "rZvvEWTrbGOs"
   },
   "outputs": [
    {
     "data": {
      "application/vnd.jupyter.widget-view+json": {
       "model_id": "",
       "version_major": 2,
       "version_minor": 0
      },
      "text/plain": [
       "FloatProgress(value=0.0, bar_style='info', description='Progress:', layout=Layout(height='25px', width='50%'),…"
      ]
     },
     "metadata": {},
     "output_type": "display_data"
    }
   ],
   "source": [
    "# YOUR CODE HERE\n",
    "train_df, test_df = df_features.randomSplit([0.8, 0.2], 10605)\n",
    "# YOUR CODE HERE"
   ]
  },
  {
   "cell_type": "markdown",
   "metadata": {
    "application/vnd.databricks.v1+cell": {
     "inputWidgets": {},
     "nuid": "00a18243-93e3-4368-a753-8bde1d19633a",
     "showTitle": false,
     "title": ""
    },
    "id": "qbmIO2ibbGOs"
   },
   "source": [
    "We have to select a metric to evaluate our models on. For classification, potential choices include accuracy and AUC. ✰2.5(e) In your writeup, explain the difference between these two metrics and when AUC might be more useful than accuracy.\n",
    "\n",
    "We will be going with AUC here. Instantiate an AUC Evaluator in the following cell."
   ]
  },
  {
   "cell_type": "code",
   "execution_count": 28,
   "metadata": {
    "application/vnd.databricks.v1+cell": {
     "inputWidgets": {},
     "nuid": "a318a005-a6f2-4d1e-89b2-83949396fb72",
     "showTitle": false,
     "title": ""
    },
    "id": "dK2VbP_obGOt"
   },
   "outputs": [
    {
     "data": {
      "application/vnd.jupyter.widget-view+json": {
       "model_id": "",
       "version_major": 2,
       "version_minor": 0
      },
      "text/plain": [
       "FloatProgress(value=0.0, bar_style='info', description='Progress:', layout=Layout(height='25px', width='50%'),…"
      ]
     },
     "metadata": {},
     "output_type": "display_data"
    }
   ],
   "source": [
    "from pyspark.ml.evaluation import BinaryClassificationEvaluator\n",
    "\n",
    "# YOUR CODE HERE\n",
    "evaluator = BinaryClassificationEvaluator(rawPredictionCol='rawPrediction', labelCol='label', metricName='areaUnderROC')\n",
    "# YOUR CODE HERE"
   ]
  },
  {
   "cell_type": "markdown",
   "metadata": {
    "application/vnd.databricks.v1+cell": {
     "inputWidgets": {},
     "nuid": "1968687d-252d-4073-a78c-12bafdfd5927",
     "showTitle": false,
     "title": ""
    },
    "id": "kLGozCzDbGOt"
   },
   "source": [
    "We will be fitting two models, logistic regression, and random forest, in the mandatory part. You have the chance go with fancier models in the last section to achieve higher accuracy to earn additional points.\n",
    "\n",
    "Train a LR and a RF model with default hyperparameters. ✰2.5(f) Calculate the train and test AUC of both models and report them in your writeup."
   ]
  },
  {
   "cell_type": "code",
   "execution_count": 29,
   "metadata": {
    "application/vnd.databricks.v1+cell": {
     "inputWidgets": {},
     "nuid": "49d94a8d-e607-4beb-8a06-30bbe5a2e542",
     "showTitle": false,
     "title": ""
    },
    "id": "ks5RQm4DbGOt"
   },
   "outputs": [
    {
     "data": {
      "application/vnd.jupyter.widget-view+json": {
       "model_id": "",
       "version_major": 2,
       "version_minor": 0
      },
      "text/plain": [
       "FloatProgress(value=0.0, bar_style='info', description='Progress:', layout=Layout(height='25px', width='50%'),…"
      ]
     },
     "metadata": {},
     "output_type": "display_data"
    },
    {
     "name": "stdout",
     "output_type": "stream",
     "text": [
      "Training Area Under ROC: 0.729241392405541\n",
      "Test Area Under ROC 0.7316519529562113"
     ]
    }
   ],
   "source": [
    "#Logistic Regression\n",
    "predictions = []\n",
    "from pyspark.ml.classification import LogisticRegression\n",
    "# YOUR CODE HERE\n",
    "lr = LogisticRegression(featuresCol='features', labelCol = 'label', maxIter=10)\n",
    "model = lr.fit(train_df)\n",
    "trainingSummary_lr = model.summary\n",
    "predictions.append(model.transform(train_df))\n",
    "print('Training Area Under ROC: ' + str(trainingSummary_lr.areaUnderROC))\n",
    "predictions.append(model.transform(test_df))\n",
    "print('Test Area Under ROC', evaluator.evaluate(predictions[1]))\n",
    "# YOUR CODE HERE"
   ]
  },
  {
   "cell_type": "code",
   "execution_count": 30,
   "metadata": {
    "application/vnd.databricks.v1+cell": {
     "inputWidgets": {},
     "nuid": "d8e65973-9032-4f58-a280-45315d68b498",
     "showTitle": false,
     "title": ""
    },
    "id": "EXQ93tnObGOt"
   },
   "outputs": [
    {
     "data": {
      "application/vnd.jupyter.widget-view+json": {
       "model_id": "",
       "version_major": 2,
       "version_minor": 0
      },
      "text/plain": [
       "FloatProgress(value=0.0, bar_style='info', description='Progress:', layout=Layout(height='25px', width='50%'),…"
      ]
     },
     "metadata": {},
     "output_type": "display_data"
    },
    {
     "name": "stdout",
     "output_type": "stream",
     "text": [
      "Training Area Under ROC: 0.7598793001852501\n",
      "Test Area Under ROC 0.7580051198413056"
     ]
    }
   ],
   "source": [
    "# Random Forest\n",
    "\n",
    "from pyspark.ml.classification import RandomForestClassifier\n",
    "\n",
    "# YOUR CODE HERE\n",
    "rf = RandomForestClassifier(featuresCol='features', labelCol='label', numTrees=20)\n",
    "model = rf.fit(train_df)\n",
    "trainingSummary_rf = evaluator.evaluate(model.transform(train_df))\n",
    "predictions.append(model.transform(train_df))\n",
    "print('Training Area Under ROC: ' + str(trainingSummary_rf))\n",
    "predictions.append(model.transform(test_df))\n",
    "print('Test Area Under ROC', evaluator.evaluate(predictions[3]))\n",
    "# YOUR CODE HERE"
   ]
  },
  {
   "cell_type": "markdown",
   "metadata": {
    "application/vnd.databricks.v1+cell": {
     "inputWidgets": {},
     "nuid": "48a5b8d3-d12f-4366-9cb7-9c36ad772196",
     "showTitle": false,
     "title": ""
    },
    "id": "hIa9p1q9bGOt"
   },
   "source": [
    "### 5. Featurization: Bag-of-Words and TF-IDF\n",
    "\n",
    "In our list of features, we have two features that contain text data, namely `title` and `artist_terms`. In the entity resolution task of HW1, we've seen how TF-IDF could help us featurize textual data. Let's do that here as well. [Bag-of-Words](https://en.wikipedia.org/wiki/Bag-of-words_model) is yet another technique (arguably simpler than TF-IDF) to featurize text features.\n",
    "\n",
    "\n",
    "To get yourself familiar with both in Spark, let's treat titles and artist terms as mini documents and compute TF-IDF for `title` and BoW for `artist_terms`."
   ]
  },
  {
   "cell_type": "code",
   "execution_count": 31,
   "metadata": {
    "application/vnd.databricks.v1+cell": {
     "inputWidgets": {},
     "nuid": "e660b9c3-d8df-40db-8634-b8675a63e24a",
     "showTitle": false,
     "title": ""
    },
    "id": "6jqlCBvMbGOt"
   },
   "outputs": [
    {
     "data": {
      "application/vnd.jupyter.widget-view+json": {
       "model_id": "",
       "version_major": 2,
       "version_minor": 0
      },
      "text/plain": [
       "FloatProgress(value=0.0, bar_style='info', description='Progress:', layout=Layout(height='25px', width='50%'),…"
      ]
     },
     "metadata": {},
     "output_type": "display_data"
    }
   ],
   "source": [
    "# tf-idf on title\n",
    "\n",
    "from pyspark.ml.feature import Tokenizer, HashingTF, IDF\n",
    "\n",
    "TF_IDF_NUM_FEATS = 5 # HashingTF(..., numFeatures=TF_IDF_NUM_FEATS)\n",
    "\n",
    "# YOUR CODE HERE\n",
    "tokenizer = Tokenizer(outputCol=\"title_array\")\n",
    "tokenizer.setInputCol(\"title\")\n",
    "tokenized_df = tokenizer.transform(cleanDf)\n",
    "\n",
    "hashingTF = HashingTF(inputCol=\"title_array\", outputCol=\"rawFeatures\", numFeatures=TF_IDF_NUM_FEATS)\n",
    "hashing_df = hashingTF.transform(tokenized_df)\n",
    "\n",
    "idf = IDF(inputCol=\"rawFeatures\", outputCol=\"title_features\")\n",
    "model = idf.fit(hashing_df)\n",
    "df_tf_idf = model.transform(hashing_df)\n",
    "# YOUR CODE HERE"
   ]
  },
  {
   "cell_type": "markdown",
   "metadata": {
    "application/vnd.databricks.v1+cell": {
     "inputWidgets": {},
     "nuid": "db6c37e5-acc3-459d-af44-0aebeef4e223",
     "showTitle": false,
     "title": ""
    },
    "id": "JK40r1AlbGOt"
   },
   "source": [
    "Verify the resulting TF-IDF feature is indeed a vector of length `TF_IDF_NUM_FEATS`."
   ]
  },
  {
   "cell_type": "code",
   "execution_count": 32,
   "metadata": {
    "application/vnd.databricks.v1+cell": {
     "inputWidgets": {},
     "nuid": "93935194-25b2-43cc-b529-078353cddda4",
     "showTitle": false,
     "title": ""
    },
    "id": "gmz9L9kybGOt"
   },
   "outputs": [
    {
     "data": {
      "application/vnd.jupyter.widget-view+json": {
       "model_id": "",
       "version_major": 2,
       "version_minor": 0
      },
      "text/plain": [
       "FloatProgress(value=0.0, bar_style='info', description='Progress:', layout=Layout(height='25px', width='50%'),…"
      ]
     },
     "metadata": {},
     "output_type": "display_data"
    },
    {
     "name": "stdout",
     "output_type": "stream",
     "text": [
      "Row(title_features=SparseVector(5, {0: 1.1932, 2: 0.814}))"
     ]
    }
   ],
   "source": [
    "import pyspark\n",
    "# change variable/column name to yours\n",
    "col_name = 'title_features'\n",
    "head = df_tf_idf.select(col_name).head() \n",
    "print(head)\n",
    "assert type(head[col_name]) == pyspark.ml.linalg.SparseVector\n",
    "assert len(head[col_name]) == TF_IDF_NUM_FEATS"
   ]
  },
  {
   "cell_type": "markdown",
   "metadata": {
    "application/vnd.databricks.v1+cell": {
     "inputWidgets": {},
     "nuid": "2569bd2b-1646-4c9c-b2dd-a2d8f1dcaa35",
     "showTitle": false,
     "title": ""
    },
    "id": "45v57XVXbGOu"
   },
   "source": [
    "Recall that `artist_terms` should be of type string array but we have not yet interpreted from a string literal. Let's do that now. \n",
    "\n",
    "Hint: start by defining a UDF to convert a single string literal to type `T.ArrayType(T.StringType())`."
   ]
  },
  {
   "cell_type": "code",
   "execution_count": 33,
   "metadata": {
    "application/vnd.databricks.v1+cell": {
     "inputWidgets": {},
     "nuid": "09a6183e-6f84-4c3d-ba90-4b48cb653c3f",
     "showTitle": false,
     "title": ""
    },
    "id": "NKzvQv_obGOu"
   },
   "outputs": [
    {
     "data": {
      "application/vnd.jupyter.widget-view+json": {
       "model_id": "",
       "version_major": 2,
       "version_minor": 0
      },
      "text/plain": [
       "FloatProgress(value=0.0, bar_style='info', description='Progress:', layout=Layout(height='25px', width='50%'),…"
      ]
     },
     "metadata": {},
     "output_type": "display_data"
    }
   ],
   "source": [
    "from pyspark.sql.functions import udf\n",
    "import pyspark.sql.types as T\n",
    "import ast\n",
    "\n",
    "# YOUR CODE HERE\n",
    "def parse_array_from_string(x):\n",
    "    res = ast.literal_eval(x)\n",
    "    return res\n",
    "    \n",
    "stringArrayUDF = udf(lambda x : parse_array_from_string(x), T.ArrayType(T.StringType()))\n",
    "df_tags_arr = df_tf_idf.withColumn(\"artist_terms_arr\", stringArrayUDF(col(\"artist_terms\")))\n",
    "# YOUR CODE HERE"
   ]
  },
  {
   "cell_type": "markdown",
   "metadata": {
    "application/vnd.databricks.v1+cell": {
     "inputWidgets": {},
     "nuid": "fb38600e-8562-4ddc-a3c9-2bd8a37b9a2e",
     "showTitle": false,
     "title": ""
    },
    "id": "JuSwcIRKbGOu"
   },
   "source": [
    "Let's do a quick check things indeed worked out."
   ]
  },
  {
   "cell_type": "code",
   "execution_count": 34,
   "metadata": {
    "application/vnd.databricks.v1+cell": {
     "inputWidgets": {},
     "nuid": "ad3d7ac2-13ba-4b70-9dbb-b44aa2ab73c7",
     "showTitle": false,
     "title": ""
    },
    "id": "81Ta3_ljbGOu"
   },
   "outputs": [
    {
     "data": {
      "application/vnd.jupyter.widget-view+json": {
       "model_id": "",
       "version_major": 2,
       "version_minor": 0
      },
      "text/plain": [
       "FloatProgress(value=0.0, bar_style='info', description='Progress:', layout=Layout(height='25px', width='50%'),…"
      ]
     },
     "metadata": {},
     "output_type": "display_data"
    },
    {
     "name": "stdout",
     "output_type": "stream",
     "text": [
      "Row(artist_terms_arr=['hardcore punk', 'heavy metal', 'hardcore metal', 'thrash core', 'hard rock', 'death core', 'crossover thrash', 'metalcore', 'nu metal', 'rock', 'melodic black metal', 'thrash metal', 'hardcore', 'melodic death metal', 'power metal', 'screamo', 'progressive metal', 'black metal', 'punk', 'emo', 'death metal', 'hip hop', 'rap', 'alternative rock', 'punk metal', 'united states', 'singer-songwriter', 'metal', 'american', 'new york hardcore', 'alternative', 'germany', 'indie', 'christian', '00s', 'heavy', 'new york', 'crossover', 'new york city', 'old school hardcore', 'drums', 'trash metal', 'beat down'])"
     ]
    }
   ],
   "source": [
    "# change to your variable/column names\n",
    "col_name = 'artist_terms_arr'\n",
    "head = df_tags_arr.select(col_name).head()\n",
    "print(head)\n",
    "assert type(head[col_name]) == list"
   ]
  },
  {
   "cell_type": "markdown",
   "metadata": {
    "application/vnd.databricks.v1+cell": {
     "inputWidgets": {},
     "nuid": "3b6e99de-065e-4b99-8af8-43b2be8a701c",
     "showTitle": false,
     "title": ""
    },
    "id": "hxEv4U3XbGOu"
   },
   "source": [
    "Now perform BoW on the array feature you just created.\n",
    "\n",
    "✰2.6(a) In your writeup, explain what the `vocabSize` hyperparameter means in the context of Bag-of-Words. Remember you can tune this later in the last section."
   ]
  },
  {
   "cell_type": "code",
   "execution_count": 35,
   "metadata": {
    "application/vnd.databricks.v1+cell": {
     "inputWidgets": {},
     "nuid": "41494760-f599-41ac-8940-51aafd925454",
     "showTitle": false,
     "title": ""
    },
    "id": "7M3D9CCUbGOu"
   },
   "outputs": [
    {
     "data": {
      "application/vnd.jupyter.widget-view+json": {
       "model_id": "",
       "version_major": 2,
       "version_minor": 0
      },
      "text/plain": [
       "FloatProgress(value=0.0, bar_style='info', description='Progress:', layout=Layout(height='25px', width='50%'),…"
      ]
     },
     "metadata": {},
     "output_type": "display_data"
    }
   ],
   "source": [
    "# BoW on artist_terms\n",
    "\n",
    "from pyspark.ml.feature import CountVectorizer\n",
    "\n",
    "BOW_VOCAB_SIZE = 10 \n",
    "BOW_MIN_DF = 2\n",
    "# CountVectorizer(..., vocabSize=BOW_VOCAB_SIZE, minDF=BOW_MIN_DF)\n",
    "cv = CountVectorizer(inputCol='artist_terms_arr', outputCol='artist_terms_bow', vocabSize=BOW_VOCAB_SIZE, minDF=BOW_MIN_DF)\n",
    "# YOUR CODE HERE\n",
    "model = cv.fit(df_tags_arr)\n",
    "df_final = model.transform(df_tags_arr)\n",
    "# YOUR CODE HERE"
   ]
  },
  {
   "cell_type": "markdown",
   "metadata": {
    "application/vnd.databricks.v1+cell": {
     "inputWidgets": {},
     "nuid": "d2b709df-209e-4e60-a420-7a7ecf22869c",
     "showTitle": false,
     "title": ""
    },
    "id": "RDAOyBfkbGOu"
   },
   "source": [
    "Verify the result of BoW is indeed a vector of length `BOW_VOCAB_SIZE`."
   ]
  },
  {
   "cell_type": "code",
   "execution_count": 36,
   "metadata": {
    "application/vnd.databricks.v1+cell": {
     "inputWidgets": {},
     "nuid": "43d9ea21-0b8d-40e2-a0e8-7da406c39e45",
     "showTitle": false,
     "title": ""
    },
    "id": "j89WWdllbGOv"
   },
   "outputs": [
    {
     "data": {
      "application/vnd.jupyter.widget-view+json": {
       "model_id": "",
       "version_major": 2,
       "version_minor": 0
      },
      "text/plain": [
       "FloatProgress(value=0.0, bar_style='info', description='Progress:', layout=Layout(height='25px', width='50%'),…"
      ]
     },
     "metadata": {},
     "output_type": "display_data"
    },
    {
     "name": "stdout",
     "output_type": "stream",
     "text": [
      "Row(artist_terms_bow=SparseVector(10, {0: 1.0, 3: 1.0, 4: 1.0, 5: 1.0, 7: 1.0}))"
     ]
    }
   ],
   "source": [
    "# change variable/column name to yours\n",
    "col_name = 'artist_terms_bow'\n",
    "head = df_final.select(col_name).head() \n",
    "print(head)\n",
    "assert type(head[col_name]) == pyspark.ml.linalg.SparseVector\n",
    "assert len(head[col_name]) == BOW_VOCAB_SIZE"
   ]
  },
  {
   "cell_type": "markdown",
   "metadata": {
    "application/vnd.databricks.v1+cell": {
     "inputWidgets": {},
     "nuid": "d044f7fd-00b2-4257-8343-b61a38c3fe7d",
     "showTitle": false,
     "title": ""
    },
    "id": "kTQ1nlX0bGOv"
   },
   "source": [
    "✰2.6(b) Other than featurizing texts, what other feature engineering would you do on the dataset? Briefly describe one in your writeup."
   ]
  },
  {
   "cell_type": "markdown",
   "metadata": {
    "application/vnd.databricks.v1+cell": {
     "inputWidgets": {},
     "nuid": "1eac2c14-eb99-4792-8525-6e727adab8ef",
     "showTitle": false,
     "title": ""
    },
    "id": "yexg1l-UbGOv"
   },
   "source": [
    "Now with the new feature columns ready, let's assemble and scale our features once again as we did to prepare for training. \n",
    "\n",
    "This time, we should have 16+2=18 features with the two being TF-IDF and BoW features we just created. The total length of the resulting feature vector should be 31. ✰2.6(c) Explain where this number (31) comes from in your writeup."
   ]
  },
  {
   "cell_type": "code",
   "execution_count": 37,
   "metadata": {
    "application/vnd.databricks.v1+cell": {
     "inputWidgets": {},
     "nuid": "5fd58d44-1e9d-4584-ade0-44514938d227",
     "showTitle": false,
     "title": ""
    },
    "id": "WnIpicdFbGOv"
   },
   "outputs": [
    {
     "data": {
      "application/vnd.jupyter.widget-view+json": {
       "model_id": "",
       "version_major": 2,
       "version_minor": 0
      },
      "text/plain": [
       "FloatProgress(value=0.0, bar_style='info', description='Progress:', layout=Layout(height='25px', width='50%'),…"
      ]
     },
     "metadata": {},
     "output_type": "display_data"
    }
   ],
   "source": [
    "# assembling vector\n",
    "\n",
    "# YOUR CODE HERE\n",
    "from pyspark.ml.feature import VectorAssembler\n",
    "inputCols = ['artist_familiarity', 'artist_hotttnesss', 'artist_latitude', 'artist_longitude', 'duration', 'end_of_fade_in', 'key', 'key_confidence', 'loudness', 'mode', 'mode_confidence', 'start_of_fade_out', 'tempo', 'time_signature', 'time_signature_confidence', 'year', 'title_features','artist_terms_bow']\n",
    "# YOUR CODE HERE\n",
    "vecAssembler = VectorAssembler(inputCols = inputCols, outputCol=\"vec_tf_idf_features\")\n",
    "vec_df_tfidf = vecAssembler.transform(df_final)\n",
    "\n",
    "# YOUR CODE HERE"
   ]
  },
  {
   "cell_type": "code",
   "execution_count": 38,
   "metadata": {
    "application/vnd.databricks.v1+cell": {
     "inputWidgets": {},
     "nuid": "378f4098-7052-47bd-9af8-cadb54cb133a",
     "showTitle": false,
     "title": ""
    },
    "id": "ZdnoSxLqbGOv"
   },
   "outputs": [
    {
     "data": {
      "application/vnd.jupyter.widget-view+json": {
       "model_id": "",
       "version_major": 2,
       "version_minor": 0
      },
      "text/plain": [
       "FloatProgress(value=0.0, bar_style='info', description='Progress:', layout=Layout(height='25px', width='50%'),…"
      ]
     },
     "metadata": {},
     "output_type": "display_data"
    }
   ],
   "source": [
    "# scaling\n",
    "\n",
    "# YOUR CODE HERE\n",
    "from pyspark.ml.feature import StandardScaler\n",
    "\n",
    "# YOUR CODE HERE\n",
    "ss = StandardScaler()\n",
    "ss.setInputCol(\"vec_tf_idf_features\")\n",
    "ss.setOutputCol(\"features\")\n",
    "model = ss.fit(vec_df_tfidf)\n",
    "df_scaled_features = model.transform(vec_df_tfidf)\n",
    "# YOUR CODE HERE\n",
    "# df_scaled_features.toPandas().head()"
   ]
  },
  {
   "cell_type": "markdown",
   "metadata": {
    "application/vnd.databricks.v1+cell": {
     "inputWidgets": {},
     "nuid": "614933d1-1ab5-49a9-8e93-1e36da2e7f39",
     "showTitle": false,
     "title": ""
    },
    "id": "7AYxB7XMbGOv"
   },
   "source": [
    "Now let's verify the feature vector is of expected length 31."
   ]
  },
  {
   "cell_type": "code",
   "execution_count": 39,
   "metadata": {
    "application/vnd.databricks.v1+cell": {
     "inputWidgets": {},
     "nuid": "b12fbc10-a30c-47f9-a405-4b20c47a4458",
     "showTitle": false,
     "title": ""
    },
    "id": "WWtHDij2bGOv"
   },
   "outputs": [
    {
     "data": {
      "application/vnd.jupyter.widget-view+json": {
       "model_id": "",
       "version_major": 2,
       "version_minor": 0
      },
      "text/plain": [
       "FloatProgress(value=0.0, bar_style='info', description='Progress:', layout=Layout(height='25px', width='50%'),…"
      ]
     },
     "metadata": {},
     "output_type": "display_data"
    },
    {
     "name": "stdout",
     "output_type": "stream",
     "text": [
      "vector len: 31"
     ]
    }
   ],
   "source": [
    "# change your variable/column names accordingly\n",
    "l = df_scaled_features.select('features').take(1)[0].features\n",
    "print('vector len:',len(l))\n",
    "assert len(l) == 31"
   ]
  },
  {
   "cell_type": "markdown",
   "metadata": {
    "application/vnd.databricks.v1+cell": {
     "inputWidgets": {},
     "nuid": "210655de-2f0c-4406-9603-b24f515236a7",
     "showTitle": false,
     "title": ""
    },
    "id": "qiELJKJvbGOv"
   },
   "source": [
    "### 6. Modeling with New Features"
   ]
  },
  {
   "cell_type": "markdown",
   "metadata": {
    "application/vnd.databricks.v1+cell": {
     "inputWidgets": {},
     "nuid": "f65fb59c-7633-4116-aad9-7f4e1e218eec",
     "showTitle": false,
     "title": ""
    },
    "id": "zQD8qUrUbGOv"
   },
   "source": [
    "Now let's fit LR and RF on our new data. As before, first do a train-test split with test ratio 0.2 and seed 10605."
   ]
  },
  {
   "cell_type": "code",
   "execution_count": 40,
   "metadata": {
    "application/vnd.databricks.v1+cell": {
     "inputWidgets": {},
     "nuid": "30ccee50-61a1-4b2a-a71f-7ec982384c37",
     "showTitle": false,
     "title": ""
    },
    "id": "dsXN1DHEbGOw"
   },
   "outputs": [
    {
     "data": {
      "application/vnd.jupyter.widget-view+json": {
       "model_id": "",
       "version_major": 2,
       "version_minor": 0
      },
      "text/plain": [
       "FloatProgress(value=0.0, bar_style='info', description='Progress:', layout=Layout(height='25px', width='50%'),…"
      ]
     },
     "metadata": {},
     "output_type": "display_data"
    }
   ],
   "source": [
    "# YOUR CODE HERE\n",
    "train_df_tfidf, test_df_tfidf = df_scaled_features.randomSplit([0.8, 0.2], 10605)\n",
    "# YOUR CODE HERE"
   ]
  },
  {
   "cell_type": "markdown",
   "metadata": {
    "application/vnd.databricks.v1+cell": {
     "inputWidgets": {},
     "nuid": "9e3bd4f6-c1be-4a8e-8f67-78068a40aa89",
     "showTitle": false,
     "title": ""
    },
    "id": "UVmYHu4jbGOw"
   },
   "source": [
    "Now train the LR and RF model with default hyperparameters. ✰2.7(a) Evaluate train and test AUC for each model and report them in your writeup."
   ]
  },
  {
   "cell_type": "code",
   "execution_count": 41,
   "metadata": {
    "application/vnd.databricks.v1+cell": {
     "inputWidgets": {},
     "nuid": "e53618df-d85b-4de1-98c9-dbcf8b1bb13a",
     "showTitle": false,
     "title": ""
    },
    "id": "BMIltHGQbGOw"
   },
   "outputs": [
    {
     "data": {
      "application/vnd.jupyter.widget-view+json": {
       "model_id": "",
       "version_major": 2,
       "version_minor": 0
      },
      "text/plain": [
       "FloatProgress(value=0.0, bar_style='info', description='Progress:', layout=Layout(height='25px', width='50%'),…"
      ]
     },
     "metadata": {},
     "output_type": "display_data"
    },
    {
     "name": "stdout",
     "output_type": "stream",
     "text": [
      "Training Area Under ROC: 0.7507875110853989\n",
      "Test Area Under ROC 0.7489192932323468"
     ]
    }
   ],
   "source": [
    "# Logistic Regression\n",
    "\n",
    "# YOUR CODE HERE\n",
    "from pyspark.ml.classification import LogisticRegression\n",
    "# YOUR CODE HERE\n",
    "lr = LogisticRegression(featuresCol='features', labelCol = 'label', maxIter=10)\n",
    "model = lr.fit(train_df_tfidf)\n",
    "trainingSummary_lr2 = model.summary\n",
    "predictions.append(model.transform(train_df_tfidf))\n",
    "print('Training Area Under ROC: ' + str(trainingSummary_lr2.areaUnderROC))\n",
    "predictions.append(model.transform(test_df_tfidf))\n",
    "print('Test Area Under ROC', evaluator.evaluate(predictions[5]))\n",
    "# YOUR CODE HERE"
   ]
  },
  {
   "cell_type": "code",
   "execution_count": 42,
   "metadata": {
    "application/vnd.databricks.v1+cell": {
     "inputWidgets": {},
     "nuid": "2a20b8f0-79ee-4acd-8c9b-a1bb2c064464",
     "showTitle": false,
     "title": ""
    },
    "id": "XW1MkYvibGOw"
   },
   "outputs": [
    {
     "data": {
      "application/vnd.jupyter.widget-view+json": {
       "model_id": "",
       "version_major": 2,
       "version_minor": 0
      },
      "text/plain": [
       "FloatProgress(value=0.0, bar_style='info', description='Progress:', layout=Layout(height='25px', width='50%'),…"
      ]
     },
     "metadata": {},
     "output_type": "display_data"
    },
    {
     "name": "stdout",
     "output_type": "stream",
     "text": [
      "Training Area Under ROC: 0.7693450462908513\n",
      "Test Area Under ROC 0.7670750452736087"
     ]
    }
   ],
   "source": [
    "# Random Forest\n",
    "\n",
    "# YOUR CODE HERE\n",
    "from pyspark.ml.classification import RandomForestClassifier\n",
    "\n",
    "# YOUR CODE HERE\n",
    "rf = RandomForestClassifier(featuresCol='features', labelCol='label', numTrees=20)\n",
    "model = rf.fit(train_df_tfidf)\n",
    "trainingSummary_rf2 = evaluator.evaluate(model.transform(train_df_tfidf))\n",
    "predictions.append(model.transform(train_df_tfidf))\n",
    "print('Training Area Under ROC: ' + str(trainingSummary_rf2))\n",
    "predictions.append(model.transform(test_df_tfidf))\n",
    "print('Test Area Under ROC', evaluator.evaluate(predictions[7]))\n",
    "# YOUR CODE HERE"
   ]
  },
  {
   "cell_type": "markdown",
   "metadata": {
    "application/vnd.databricks.v1+cell": {
     "inputWidgets": {},
     "nuid": "d848886b-1e65-4482-9a04-44c8ee5d3c36",
     "showTitle": false,
     "title": ""
    },
    "id": "LPiEUwnfbGOw"
   },
   "source": [
    "Recall that AUC is the area under the ROC curve. Now, plot the ROC curves for the four models (including two baselines) in **one single plot**. \n",
    "\n",
    "✰2.7(b) In your writeup:\n",
    "- Include the plot (with legends)\n",
    "- Explain how the ROC curve is derived and what it measures\n",
    "- Explain, from the ROC curves, how do you discover which models are performing better than others, and in this case, which model performs the best."
   ]
  },
  {
   "cell_type": "code",
   "execution_count": 43,
   "metadata": {
    "application/vnd.databricks.v1+cell": {
     "inputWidgets": {},
     "nuid": "73b7752e-0cb6-4657-ac53-73eeeaabe9b3",
     "showTitle": false,
     "title": ""
    },
    "id": "6unBCK-rbGOw"
   },
   "outputs": [
    {
     "data": {
      "application/vnd.jupyter.widget-view+json": {
       "model_id": "",
       "version_major": 2,
       "version_minor": 0
      },
      "text/plain": [
       "FloatProgress(value=0.0, bar_style='info', description='Progress:', layout=Layout(height='25px', width='50%'),…"
      ]
     },
     "metadata": {},
     "output_type": "display_data"
    },
    {
     "name": "stdout",
     "output_type": "stream",
     "text": [
      "<string>:29: UserWarning: color is redundantly defined by the 'color' keyword argument and the fmt string \"k--\" (-> color='k'). The keyword argument will take precedence.\n",
      "<string>:31: UserWarning: color is redundantly defined by the 'color' keyword argument and the fmt string \"k--\" (-> color='k'). The keyword argument will take precedence.\n",
      "<string>:33: UserWarning: color is redundantly defined by the 'color' keyword argument and the fmt string \"k--\" (-> color='k'). The keyword argument will take precedence.\n",
      "<string>:35: UserWarning: color is redundantly defined by the 'color' keyword argument and the fmt string \"k--\" (-> color='k'). The keyword argument will take precedence."
     ]
    }
   ],
   "source": [
    "# YOUR CODE HERE\n",
    "from pyspark.mllib.evaluation import BinaryClassificationMetrics\n",
    "from sklearn.metrics import roc_curve, auc\n",
    "# Returns as a list (false positive rate, true positive rate)\n",
    "#------------------------LR1------------------------------------------\n",
    "PredAndLabels = []\n",
    "fpr = []\n",
    "tpr = []\n",
    "roc_auc = [{}]\n",
    "y_test = []\n",
    "y_score = []\n",
    "metrics = []\n",
    "PredAndLabels_list = []\n",
    "PredAndLabels_collect = []\n",
    "fpr_tpr = []\n",
    "for j in range(8):\n",
    "    PredAndLabels.append(predictions[j].select(\"probability\", \"label\"))\n",
    "    PredAndLabels_collect.append(PredAndLabels[j].collect())\n",
    "    PredAndLabels_list.append([(float(i[0][0]), 1.0-float(i[1])) for i in PredAndLabels_collect[j]])\n",
    "    PredAndLabels[j]           = sc.parallelize(PredAndLabels_list[j])\n",
    "    metrics.append(BinaryClassificationMetrics(PredAndLabels[j]))   \n",
    "    y_test.append([i[1] for i in PredAndLabels_list[j]])\n",
    "    y_score.append([i[0] for i in PredAndLabels_list[j]])\n",
    "    fpr_tpr.append(roc_curve(y_test[j], y_score[j]))\n",
    "    fpr.append(fpr_tpr[j][0])\n",
    "    tpr.append(fpr_tpr[j][1])\n",
    "    roc_auc.append(auc(fpr[j], tpr[j]))\n",
    "plt.figure(figsize=(15,10))\n",
    "plt.plot(fpr[0], tpr[0], 'k--', label='Train LR1 ROC curve' % roc_auc[0], color = 'blue')\n",
    "plt.plot(fpr[1], tpr[1], label='Test LR1 ROC curve' % roc_auc[1])\n",
    "plt.plot(fpr[2], tpr[2], 'k--', label='Train RF1 ROC curve' % roc_auc[2], color = 'orange')\n",
    "plt.plot(fpr[3], tpr[3], label='Test RF1 ROC curve' % roc_auc[3])\n",
    "plt.plot(fpr[4], tpr[4], 'k--', label='Train LR1 ROC curve' % roc_auc[4], color = 'green')\n",
    "plt.plot(fpr[5], tpr[5], label='Test LR2 ROC curve' % roc_auc[5])\n",
    "plt.plot(fpr[6], tpr[6], 'k--', label='Train RF1 ROC curve' % roc_auc[6], color = 'red')\n",
    "plt.plot(fpr[7], tpr[7], label='Test RF2 ROC curve' % roc_auc[7])\n",
    "plt.plot([0, 1], [0, 1], 'k--')\n",
    "plt.xlim([0.0, 1.0])\n",
    "plt.ylim([0.0, 1.05])\n",
    "plt.xlabel('False Positive Rate')\n",
    "plt.ylabel('True Positive Rate')\n",
    "plt.title('ROC Curves')\n",
    "plt.legend(loc=\"lower right\")\n",
    "plt.show()\n",
    "# YOUR CODE HERE"
   ]
  },
  {
   "cell_type": "code",
   "execution_count": 44,
   "metadata": {},
   "outputs": [
    {
     "data": {
      "application/vnd.jupyter.widget-view+json": {
       "model_id": "",
       "version_major": 2,
       "version_minor": 0
      },
      "text/plain": [
       "FloatProgress(value=0.0, bar_style='info', description='Progress:', layout=Layout(height='25px', width='50%'),…"
      ]
     },
     "metadata": {},
     "output_type": "display_data"
    },
    {
     "data": {
      "image/png": "[encoded data removed]",
      "text/plain": [
       "<IPython.core.display.Image object>"
      ]
     },
     "metadata": {},
     "output_type": "display_data"
    }
   ],
   "source": [
    "%matplot plt"
   ]
  },
  {
   "cell_type": "markdown",
   "metadata": {
    "application/vnd.databricks.v1+cell": {
     "inputWidgets": {},
     "nuid": "c48783f2-5004-492e-b286-e0e879c6173c",
     "showTitle": false,
     "title": ""
    },
    "id": "64qRWzqSbGOw"
   },
   "source": [
    "### 7. Do Your Best"
   ]
  },
  {
   "cell_type": "markdown",
   "metadata": {
    "application/vnd.databricks.v1+cell": {
     "inputWidgets": {},
     "nuid": "e42bf942-1ab5-460a-a96c-bafaf5cbc2a1",
     "showTitle": false,
     "title": ""
    },
    "id": "bU6JcYWybGOw"
   },
   "source": [
    "In all previous sections in this assignment and other assignments so far, we have almost specified everything you should do. You might be (and should be!) bored by now. This section gives you a chance to do whatever you want to improve the prediction AUC. \n",
    "\n",
    "You can do better data preprocessing, feature engineering, fit fancier models, perform hyperparameter tuning, etc. \n",
    "\n",
    "After you are satisfied with your model, ✰2.8 in your writeup, report \n",
    "- the hyperparameters,\n",
    "- train and test AUC of your optimized model, and \n",
    "- the approach you took on top of the specified instructions to obtain this better result."
   ]
  },
  {
   "cell_type": "code",
   "execution_count": 45,
   "metadata": {
    "application/vnd.databricks.v1+cell": {
     "inputWidgets": {},
     "nuid": "44ae4071-492f-418b-9c26-9f484730e6ed",
     "showTitle": false,
     "title": ""
    },
    "id": "LdqjloDQbGOw"
   },
   "outputs": [
    {
     "data": {
      "application/vnd.jupyter.widget-view+json": {
       "model_id": "",
       "version_major": 2,
       "version_minor": 0
      },
      "text/plain": [
       "FloatProgress(value=0.0, bar_style='info', description='Progress:', layout=Layout(height='25px', width='50%'),…"
      ]
     },
     "metadata": {},
     "output_type": "display_data"
    },
    {
     "name": "stdout",
     "output_type": "stream",
     "text": [
      "Random Forest Model Hyper-tuned\n",
      "Training Area Under ROC: 0.7693450462908512\n",
      "Test Area Under ROC:  0.7670750452736084"
     ]
    }
   ],
   "source": [
    "# have fun!\n",
    "from pyspark.ml.tuning import CrossValidator, ParamGridBuilder\n",
    "from pyspark.ml.classification import GBTClassifier\n",
    "from pyspark.ml import Pipeline\n",
    "import numpy as np\n",
    "\n",
    "rf_final = RandomForestClassifier(featuresCol='features', labelCol='label')\n",
    "pipeline = Pipeline(stages=[rf_final])\n",
    "\n",
    "paramGrid = ParamGridBuilder() \\\n",
    "    .addGrid(rf.numTrees, [int(x) for x in np.linspace(start = 10, stop = 50, num = 7)]) \\\n",
    "    .addGrid(rf.maxDepth, [int(x) for x in np.linspace(start = 5, stop = 25, num = 7)]) \\\n",
    "    .build()\n",
    "\n",
    "crossval = CrossValidator(estimator=pipeline,\n",
    "                          estimatorParamMaps=paramGrid,\n",
    "                          evaluator=BinaryClassificationEvaluator(),\n",
    "                          numFolds=3)\n",
    "print(\"Random Forest Model Hyper-tuned\")\n",
    "model = crossval.fit(train_df_tfidf)\n",
    "trainingSummary_final_rf = evaluator.evaluate(model.transform(train_df_tfidf))\n",
    "print('Training Area Under ROC: ' + str(trainingSummary_final_rf))\n",
    "predictions_final_rf = model.transform(test_df_tfidf)\n",
    "print('Test Area Under ROC: ', evaluator.evaluate(predictions_final_rf))"
   ]
  },
  {
   "cell_type": "code",
   "execution_count": 46,
   "metadata": {},
   "outputs": [
    {
     "data": {
      "application/vnd.jupyter.widget-view+json": {
       "model_id": "",
       "version_major": 2,
       "version_minor": 0
      },
      "text/plain": [
       "FloatProgress(value=0.0, bar_style='info', description='Progress:', layout=Layout(height='25px', width='50%'),…"
      ]
     },
     "metadata": {},
     "output_type": "display_data"
    },
    {
     "name": "stdout",
     "output_type": "stream",
     "text": [
      "{Param(parent='RandomForestClassifier_809c6717e718', name='cacheNodeIds', doc='If false, the algorithm will pass trees to executors to match instances with nodes. If true, the algorithm will cache node IDs for each instance. Caching can speed up training of deeper trees.'): False, Param(parent='RandomForestClassifier_809c6717e718', name='checkpointInterval', doc='set checkpoint interval (>= 1) or disable checkpoint (-1). E.g. 10 means that the cache will get checkpointed every 10 iterations. Note: this setting will be ignored if the checkpoint directory is not set in the SparkContext'): 10, Param(parent='RandomForestClassifier_809c6717e718', name='featureSubsetStrategy', doc='The number of features to consider for splits at each tree node. Supported options: auto, all, onethird, sqrt, log2, (0.0-1.0], [1-n].'): 'auto', Param(parent='RandomForestClassifier_809c6717e718', name='featuresCol', doc='features column name'): 'features', Param(parent='RandomForestClassifier_809c6717e718', name='impurity', doc='Criterion used for information gain calculation (case-insensitive). Supported options: entropy, gini'): 'gini', Param(parent='RandomForestClassifier_809c6717e718', name='labelCol', doc='label column name'): 'label', Param(parent='RandomForestClassifier_809c6717e718', name='maxBins', doc='Max number of bins for discretizing continuous features.  Must be at least 2 and at least number of categories for any categorical feature.'): 32, Param(parent='RandomForestClassifier_809c6717e718', name='maxDepth', doc='Maximum depth of the tree. (Nonnegative) E.g., depth 0 means 1 leaf node; depth 1 means 1 internal node + 2 leaf nodes.'): 5, Param(parent='RandomForestClassifier_809c6717e718', name='maxMemoryInMB', doc='Maximum memory in MB allocated to histogram aggregation.'): 256, Param(parent='RandomForestClassifier_809c6717e718', name='minInfoGain', doc='Minimum information gain for a split to be considered at a tree node.'): 0.0, Param(parent='RandomForestClassifier_809c6717e718', name='minInstancesPerNode', doc='Minimum number of instances each child must have after split.  If a split causes the left or right child to have fewer than minInstancesPerNode, the split will be discarded as invalid. Must be at least 1.'): 1, Param(parent='RandomForestClassifier_809c6717e718', name='numTrees', doc='Number of trees to train (at least 1)'): 20, Param(parent='RandomForestClassifier_809c6717e718', name='predictionCol', doc='prediction column name'): 'prediction', Param(parent='RandomForestClassifier_809c6717e718', name='probabilityCol', doc='Column name for predicted class conditional probabilities. Note: Not all models output well-calibrated probability estimates! These probabilities should be treated as confidences, not precise probabilities'): 'probability', Param(parent='RandomForestClassifier_809c6717e718', name='rawPredictionCol', doc='raw prediction (a.k.a. confidence) column name'): 'rawPrediction', Param(parent='RandomForestClassifier_809c6717e718', name='seed', doc='random seed'): -5387697053847413545, Param(parent='RandomForestClassifier_809c6717e718', name='subsamplingRate', doc='Fraction of the training data used for learning each decision tree, in range (0, 1].'): 1.0}"
     ]
    }
   ],
   "source": [
    "model.bestModel.stages[-1].extractParamMap()"
   ]
  },
  {
   "cell_type": "code",
   "execution_count": 47,
   "metadata": {},
   "outputs": [
    {
     "data": {
      "application/vnd.jupyter.widget-view+json": {
       "model_id": "",
       "version_major": 2,
       "version_minor": 0
      },
      "text/plain": [
       "FloatProgress(value=0.0, bar_style='info', description='Progress:', layout=Layout(height='25px', width='50%'),…"
      ]
     },
     "metadata": {},
     "output_type": "display_data"
    },
    {
     "name": "stdout",
     "output_type": "stream",
     "text": [
      "\n",
      "Gradient Boosted Tree Classifier\n",
      "Training Area Under ROC: 0.8042610999381378\n",
      "Test Area Under ROC 0.7948132673838427"
     ]
    }
   ],
   "source": [
    "print()\n",
    "print(\"Gradient Boosted Tree Classifier\")\n",
    "gbt = GBTClassifier(labelCol=\"label\", featuresCol=\"features\", maxIter=30)\n",
    "pipeline = Pipeline(stages=[gbt])\n",
    "model = pipeline.fit(train_df_tfidf)\n",
    "trainingSummary_final_gbt = evaluator.evaluate(model.transform(train_df_tfidf))\n",
    "print('Training Area Under ROC: ' + str(trainingSummary_final_gbt))\n",
    "predictions_final_gbt = model.transform(test_df_tfidf)\n",
    "print('Test Area Under ROC', evaluator.evaluate(predictions_final_gbt))"
   ]
  },
  {
   "cell_type": "markdown",
   "metadata": {
    "application/vnd.databricks.v1+cell": {
     "inputWidgets": {},
     "nuid": "3607f3e4-9fad-4ab5-85af-6a948e3139b3",
     "showTitle": false,
     "title": ""
    },
    "id": "YtUulxsMbGOx"
   },
   "source": [
    "### 8. Don't forget to answer the reflection question on the writeup! ✰2.9"
   ]
  }
 ],
 "metadata": {
  "application/vnd.databricks.v1+notebook": {
   "dashboards": [],
   "language": "python",
   "notebookMetadata": {
    "pythonIndentUnit": 2
   },
   "notebookName": "HW4",
   "notebookOrigID": 379635546166569,
   "widgets": {}
  },
  "colab": {
   "name": "HW4.ipynb",
   "provenance": []
  },
  "kernelspec": {
   "display_name": "PySpark",
   "language": "python",
   "name": "pysparkkernel"
  },
  "language_info": {
   "codemirror_mode": {
    "name": "python",
    "version": 3
   },
   "file_extension": ".py",
   "mimetype": "text/x-python",
   "name": "pyspark",
   "pygments_lexer": "python3"
  }
 },
 "nbformat": 4,
 "nbformat_minor": 1
}
